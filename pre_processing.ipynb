{
 "cells": [
  {
   "cell_type": "markdown",
   "id": "207f14dc",
   "metadata": {},
   "source": [
    "Incorporar modelos  más  avanzados  para  clasificar  texto,  e.g.  redes  neuronales recurrentes  con \n",
    "atención, BERT o GPT-3. "
   ]
  },
  {
   "cell_type": "markdown",
   "id": "ab2075b2",
   "metadata": {},
   "source": [
    "Modelo BERT\n",
    "El nombre completo de BERT es Representación de codificador bidireccional de transformadores, es decir, codificador de transformador bidireccional. La principal innovación del modelo es el método de pre-entrenamiento, que se utilizaMasked LMconNext Sentence PredictionLos dos métodos capturan la representación a nivel de palabra y oración, respectivamente. Como sustituto de Word2Vec, sus 11 direcciones en el campo de la PNL han mejorado enormemente su precisión. Se puede decir que es una tecnología innovadora óptima para redes auto residuales en los últimos años.\n",
    "\n",
    "Las principales características del modelo Bert:\n",
    "\n",
    "1. La arquitectura de red de BERT utiliza las múltiples capas propuestas en \"Atención es todo lo que necesita\"TransformerEstructura, su principal característica es abandonar los RNN y CNN tradicionales, a través del mecanismo de Atención para convertir la distancia de dos palabras en cualquier posición a 1, resolver de manera efectiva el difícil problema de dependencia a largo plazo en PNL, puede capturar más a fondo la oración Relación bidireccional.\n",
    "\n",
    "\n",
    "2. Objetivos de entrenamiento de tareas múltiples usando el Modelo de lenguaje de máscara (MLM) [Wilson L Taylor. 1953. procedimiento de cloze: una nueva herramienta para medir la legibilidad.] Y Predicción de la siguiente oración (NSP);\n",
    "\n",
    "3. Al usar máquinas más potentes para entrenar datos a mayor escala, los resultados de BERT alcanzaron un nivel completamente nuevo, y Google Open obtuvo el BERT multilingüe capacitadoCódigo modelo, Los usuarios pueden usar directamente BERT como la matriz de conversión de Word2Vec y aplicarlo eficientemente a sus propias tareas."
   ]
  },
  {
   "cell_type": "code",
   "execution_count": 1,
   "id": "f950c9b0",
   "metadata": {},
   "outputs": [
    {
     "name": "stdout",
     "output_type": "stream",
     "text": [
      "   0                                                  1\n",
      "0  1  Unfortunately, the frustration of being Dr. Go...\n",
      "1  2  Been going to Dr. Goldberg for over 10 years. ...\n",
      "2  1  I don't know what Dr. Goldberg was like before...\n",
      "3  1  I'm writing this review to give you a heads up...\n",
      "4  2  All the food is great here. But the best thing...\n",
      "   0                                                  1\n",
      "0  2  Contrary to other reviews, I have zero complai...\n",
      "1  1  Last summer I had an appointment to get new ti...\n",
      "2  2  Friendly staff, same starbucks fair you get an...\n",
      "3  1  The food is good. Unfortunately the service is...\n",
      "4  2  Even when we didn't have a car Filene's Baseme...\n"
     ]
    }
   ],
   "source": [
    "import pandas as pd\n",
    "\n",
    "import tarfile\n",
    "from sklearn.preprocessing import LabelEncoder\n",
    "from sklearn.model_selection import train_test_split\n",
    "\n",
    "train_df = pd.read_csv('data/yelp_review_polarity_csv/train.csv', header=None)\n",
    "print(train_df.head())\n",
    "\n",
    "test_df = pd.read_csv('data/yelp_review_polarity_csv/test.csv', header=None)\n",
    "print(test_df.head())"
   ]
  },
  {
   "cell_type": "code",
   "execution_count": 2,
   "id": "f96c0a64",
   "metadata": {},
   "outputs": [],
   "source": [
    "train_df[0] = (train_df[0] == 2).astype(int)\n",
    "test_df[0] = (test_df[0] == 2).astype(int)"
   ]
  },
  {
   "cell_type": "code",
   "execution_count": 3,
   "id": "2ce770f3",
   "metadata": {},
   "outputs": [
    {
     "name": "stdout",
     "output_type": "stream",
     "text": [
      "   0                                                  1\n",
      "0  0  Unfortunately, the frustration of being Dr. Go...\n",
      "1  1  Been going to Dr. Goldberg for over 10 years. ...\n",
      "2  0  I don't know what Dr. Goldberg was like before...\n",
      "3  0  I'm writing this review to give you a heads up...\n",
      "4  1  All the food is great here. But the best thing...\n",
      "   0                                                  1\n",
      "0  1  Contrary to other reviews, I have zero complai...\n",
      "1  0  Last summer I had an appointment to get new ti...\n",
      "2  1  Friendly staff, same starbucks fair you get an...\n",
      "3  0  The food is good. Unfortunately the service is...\n",
      "4  1  Even when we didn't have a car Filene's Baseme...\n"
     ]
    }
   ],
   "source": [
    "print(train_df.head())\n",
    "print(test_df.head())"
   ]
  },
  {
   "cell_type": "markdown",
   "id": "81f47626",
   "metadata": {},
   "source": [
    "ID de fila, etiqueta de fila, letra única, texto que queremos clasificar"
   ]
  },
  {
   "cell_type": "code",
   "execution_count": 4,
   "id": "9f94d4c4",
   "metadata": {},
   "outputs": [],
   "source": [
    "bert_df = pd.DataFrame({\n",
    "    'id': range(len(train_df)),\n",
    "    'label': train_df[0],\n",
    "    'alpha': ['q']*train_df.shape[0],\n",
    "    'text': train_df[1].replace(r'\\n', ' ', regex=True)\n",
    "})\n",
    "\n",
    "train_bert_df, dev_bert_df = train_test_split(bert_df, test_size=0.01)"
   ]
  },
  {
   "cell_type": "code",
   "execution_count": 5,
   "id": "6c2487c8",
   "metadata": {},
   "outputs": [
    {
     "name": "stdout",
     "output_type": "stream",
     "text": [
      "            id  label alpha                                               text\n",
      "222231  222231      1     q  I love Egg Works, after a night of partying, i...\n",
      "12025    12025      1     q  Fast friendly service, good food, no complaint...\n",
      "493005  493005      1     q  I love this location.  I have had many issues ...\n",
      "324158  324158      0     q  I've never been a thrift shopper but since ren...\n",
      "194500  194500      0     q  Just saw Jack Johnson.  Great performance!   \\...\n"
     ]
    }
   ],
   "source": [
    "print(train_bert_df.head())"
   ]
  },
  {
   "cell_type": "markdown",
   "id": "1956cdb2",
   "metadata": {},
   "source": [
    "BERT solo espera dos columnas: ID de fila, texto"
   ]
  },
  {
   "cell_type": "code",
   "execution_count": 6,
   "id": "e38e848b",
   "metadata": {},
   "outputs": [],
   "source": [
    "test_bert_df = pd.DataFrame({\n",
    "    'id': range(len(test_df)),\n",
    "    'text': test_df[1].replace(r'\\n', ' ', regex=True)\n",
    "})"
   ]
  },
  {
   "cell_type": "code",
   "execution_count": 9,
   "id": "45f32330",
   "metadata": {},
   "outputs": [
    {
     "name": "stdout",
     "output_type": "stream",
     "text": [
      "   id                                               text\n",
      "0   0  Contrary to other reviews, I have zero complai...\n",
      "1   1  Last summer I had an appointment to get new ti...\n",
      "2   2  Friendly staff, same starbucks fair you get an...\n",
      "3   3  The food is good. Unfortunately the service is...\n",
      "4   4  Even when we didn't have a car Filene's Baseme...\n"
     ]
    }
   ],
   "source": [
    "print(test_bert_df.head())"
   ]
  },
  {
   "cell_type": "markdown",
   "id": "418ba6b3",
   "metadata": {},
   "source": [
    "Guardar los archivos "
   ]
  },
  {
   "cell_type": "code",
   "execution_count": 8,
   "id": "9efcefa1",
   "metadata": {},
   "outputs": [],
   "source": [
    "train_bert_df.to_csv('data/train.tsv', sep='\\t', index=False, header=False)\n",
    "dev_bert_df.to_csv('data/dev.tsv', sep='\\t', index=False, header=False)\n",
    "test_bert_df.to_csv('data/test.tsv', sep='\\t', index=False, header=False)"
   ]
  },
  {
   "cell_type": "markdown",
   "id": "b42d08a6",
   "metadata": {},
   "source": [
    "# EN TERMINAL  PARA EL MODELO \n",
    "\n",
    "python run_classifier.py --task_name=cola --do_train=true --do_eval=true --data_dir=./data/ --vocab_file=./uncased_L-12_H-768_A-12/vocab.txt --bert_config_file=./uncased_L-12_H-768_A-12/bert_config.json --init_checkpoint=./uncased_L-12_H768_A-12/bert_model.ckpt.index --max_seq_length=128 --train_batch_size=32 --learning_rate=2e-5 --num_train_epochs=3.0 --output_dir=./model_output --do_lower_case=False"
   ]
  },
  {
   "cell_type": "markdown",
   "id": "f3e28a25",
   "metadata": {},
   "source": [
    "# EN TERMINAL PARA PREDICCIÓN \n",
    "python run_classifier.py --task_name=cola --do_predict=true --data_dir=./data --vocab_file=./uncased_L-12_H-768-A-12/bert_config.json --init_checkpoint=./model_output/model.ckpt-<highest checkpoint number> --max_seq_length=128 --output_dir=./model_output"
   ]
  }
 ],
 "metadata": {
  "kernelspec": {
   "display_name": "Python 3",
   "language": "python",
   "name": "python3"
  },
  "language_info": {
   "codemirror_mode": {
    "name": "ipython",
    "version": 3
   },
   "file_extension": ".py",
   "mimetype": "text/x-python",
   "name": "python",
   "nbconvert_exporter": "python",
   "pygments_lexer": "ipython3",
   "version": "3.8.8"
  }
 },
 "nbformat": 4,
 "nbformat_minor": 5
}
