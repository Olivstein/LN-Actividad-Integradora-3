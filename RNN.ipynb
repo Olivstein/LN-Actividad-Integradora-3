{
  "nbformat": 4,
  "nbformat_minor": 0,
  "metadata": {
    "colab": {
      "name": "RNN",
      "provenance": [],
      "collapsed_sections": [],
      "include_colab_link": true
    },
    "kernelspec": {
      "name": "python3",
      "display_name": "Python 3"
    },
    "language_info": {
      "name": "python"
    }
  },
  "cells": [
    {
      "cell_type": "markdown",
      "metadata": {
        "id": "view-in-github",
        "colab_type": "text"
      },
      "source": [
        "<a href=\"https://colab.research.google.com/github/mnpro98/LN-Actividad-Integradora-3/blob/main/RNN.ipynb\" target=\"_parent\"><img src=\"https://colab.research.google.com/assets/colab-badge.svg\" alt=\"Open In Colab\"/></a>"
      ]
    },
    {
      "cell_type": "code",
      "metadata": {
        "id": "8w7hj54uBONK"
      },
      "source": [
        ""
      ],
      "execution_count": null,
      "outputs": []
    },
    {
      "cell_type": "code",
      "metadata": {
        "id": "C0jxSh9M_hxC"
      },
      "source": [
        "#Incluir la funcionalidad de buscar posts en Reddit por usuarios. A las publicaciones recolectadas \n",
        "#de  Reddit  se  les  debe  hacer  un  procesamiento  para  eliminar  hyperlinks,  menciones  a  otros \n",
        "#subreddits (r/smashbros) y menciones a otros usuarios (/Username). (10 puntos) "
      ],
      "execution_count": null,
      "outputs": []
    },
    {
      "cell_type": "code",
      "metadata": {
        "colab": {
          "base_uri": "https://localhost:8080/"
        },
        "id": "3dyOegiRBHC_",
        "outputId": "4ca38e34-a37b-480c-8588-bb913da546dc"
      },
      "source": [
        "!pip install praw"
      ],
      "execution_count": null,
      "outputs": [
        {
          "output_type": "stream",
          "name": "stdout",
          "text": [
            "Collecting praw\n",
            "  Using cached praw-7.4.0-py3-none-any.whl (167 kB)\n",
            "Collecting update-checker>=0.18\n",
            "  Using cached update_checker-0.18.0-py3-none-any.whl (7.0 kB)\n",
            "Collecting websocket-client>=0.54.0\n",
            "  Downloading websocket_client-1.2.1-py2.py3-none-any.whl (52 kB)\n",
            "\u001b[K     |████████████████████████████████| 52 kB 934 kB/s \n",
            "\u001b[?25hCollecting prawcore<3,>=2.1\n",
            "  Downloading prawcore-2.3.0-py3-none-any.whl (16 kB)\n",
            "Requirement already satisfied: requests<3.0,>=2.6.0 in /usr/local/lib/python3.7/dist-packages (from prawcore<3,>=2.1->praw) (2.23.0)\n",
            "Requirement already satisfied: chardet<4,>=3.0.2 in /usr/local/lib/python3.7/dist-packages (from requests<3.0,>=2.6.0->prawcore<3,>=2.1->praw) (3.0.4)\n",
            "Requirement already satisfied: certifi>=2017.4.17 in /usr/local/lib/python3.7/dist-packages (from requests<3.0,>=2.6.0->prawcore<3,>=2.1->praw) (2021.5.30)\n",
            "Requirement already satisfied: idna<3,>=2.5 in /usr/local/lib/python3.7/dist-packages (from requests<3.0,>=2.6.0->prawcore<3,>=2.1->praw) (2.10)\n",
            "Requirement already satisfied: urllib3!=1.25.0,!=1.25.1,<1.26,>=1.21.1 in /usr/local/lib/python3.7/dist-packages (from requests<3.0,>=2.6.0->prawcore<3,>=2.1->praw) (1.24.3)\n",
            "Installing collected packages: websocket-client, update-checker, prawcore, praw\n",
            "Successfully installed praw-7.4.0 prawcore-2.3.0 update-checker-0.18.0 websocket-client-1.2.1\n"
          ]
        }
      ]
    },
    {
      "cell_type": "code",
      "metadata": {
        "id": "VXp52xR11csp"
      },
      "source": [
        "import pandas as pd\n",
        "import numpy as np\n",
        "from nltk.tokenize import word_tokenize\n",
        "from keras.preprocessing.text import Tokenizer\n",
        "from keras.preprocessing.sequence import pad_sequences\n",
        "from keras.layers import Activation, Dense, Dropout, Embedding, Flatten, Conv1D, MaxPooling1D, LSTM, GRU\n",
        "from keras.models import Sequential\n",
        "from sklearn.preprocessing import LabelEncoder\n",
        "from sklearn.model_selection import train_test_split"
      ],
      "execution_count": null,
      "outputs": []
    },
    {
      "cell_type": "code",
      "metadata": {
        "colab": {
          "base_uri": "https://localhost:8080/"
        },
        "id": "VnC-YL7RVhU6",
        "outputId": "2bc5d1b4-c526-4797-fcb1-b41c6a6b798a"
      },
      "source": [
        "! wget nlp.stanford.edu/data/glove.6B.zip\n",
        "! unzip glove.6B.zip"
      ],
      "execution_count": null,
      "outputs": [
        {
          "output_type": "stream",
          "name": "stdout",
          "text": [
            "--2021-10-31 19:23:11--  http://nlp.stanford.edu/data/glove.6B.zip\n",
            "Resolving nlp.stanford.edu (nlp.stanford.edu)... 171.64.67.140\n",
            "Connecting to nlp.stanford.edu (nlp.stanford.edu)|171.64.67.140|:80... connected.\n",
            "HTTP request sent, awaiting response... 302 Found\n",
            "Location: https://nlp.stanford.edu/data/glove.6B.zip [following]\n",
            "--2021-10-31 19:23:11--  https://nlp.stanford.edu/data/glove.6B.zip\n",
            "Connecting to nlp.stanford.edu (nlp.stanford.edu)|171.64.67.140|:443... connected.\n",
            "HTTP request sent, awaiting response... 301 Moved Permanently\n",
            "Location: http://downloads.cs.stanford.edu/nlp/data/glove.6B.zip [following]\n",
            "--2021-10-31 19:23:12--  http://downloads.cs.stanford.edu/nlp/data/glove.6B.zip\n",
            "Resolving downloads.cs.stanford.edu (downloads.cs.stanford.edu)... 171.64.64.22\n",
            "Connecting to downloads.cs.stanford.edu (downloads.cs.stanford.edu)|171.64.64.22|:80... connected.\n",
            "HTTP request sent, awaiting response... 200 OK\n",
            "Length: 862182613 (822M) [application/zip]\n",
            "Saving to: ‘glove.6B.zip’\n",
            "\n",
            "glove.6B.zip        100%[===================>] 822.24M  4.17MB/s    in 2m 47s  \n",
            "\n",
            "2021-10-31 19:26:01 (4.91 MB/s) - ‘glove.6B.zip’ saved [862182613/862182613]\n",
            "\n",
            "Archive:  glove.6B.zip\n",
            "  inflating: glove.6B.50d.txt        \n",
            "  inflating: glove.6B.100d.txt       \n",
            "  inflating: glove.6B.200d.txt       \n",
            "  inflating: glove.6B.300d.txt       \n"
          ]
        }
      ]
    },
    {
      "cell_type": "code",
      "metadata": {
        "id": "7ITtEJvO-xLl"
      },
      "source": [
        "# Initialize dictionary to be converted to dataframe\n",
        "data_dic = {\n",
        "      'text': [],\n",
        "      'classification': [],\n",
        "}"
      ],
      "execution_count": null,
      "outputs": []
    },
    {
      "cell_type": "code",
      "metadata": {
        "id": "fKpfnXRq5OqK"
      },
      "source": [
        "def fill_dic(file_name, classification):\n",
        "  with open(file_name, encoding='latin-1') as f:\n",
        "    lines = f.readlines()\n",
        "    for line in lines:\n",
        "      data_dic['text'].append(line)\n",
        "      data_dic['classification'].append(classification)"
      ],
      "execution_count": null,
      "outputs": []
    },
    {
      "cell_type": "code",
      "metadata": {
        "id": "jnmHeORa_PGg"
      },
      "source": [
        "fill_dic('test_neg.txt', 0)\n",
        "fill_dic('train_neg.txt', 0)\n",
        "fill_dic('test_pos.txt', 1)\n",
        "fill_dic('train_pos.txt', 1)"
      ],
      "execution_count": null,
      "outputs": []
    },
    {
      "cell_type": "code",
      "metadata": {
        "colab": {
          "base_uri": "https://localhost:8080/",
          "height": 423
        },
        "id": "_diOTm4LAh05",
        "outputId": "01601671-2cf3-4eba-a377-9cb436b1ea2c"
      },
      "source": [
        "reviews_df = pd.DataFrame(data=data_dic)\n",
        "reviews_df"
      ],
      "execution_count": null,
      "outputs": [
        {
          "output_type": "execute_result",
          "data": {
            "text/html": [
              "<div>\n",
              "<style scoped>\n",
              "    .dataframe tbody tr th:only-of-type {\n",
              "        vertical-align: middle;\n",
              "    }\n",
              "\n",
              "    .dataframe tbody tr th {\n",
              "        vertical-align: top;\n",
              "    }\n",
              "\n",
              "    .dataframe thead th {\n",
              "        text-align: right;\n",
              "    }\n",
              "</style>\n",
              "<table border=\"1\" class=\"dataframe\">\n",
              "  <thead>\n",
              "    <tr style=\"text-align: right;\">\n",
              "      <th></th>\n",
              "      <th>text</th>\n",
              "      <th>classification</th>\n",
              "    </tr>\n",
              "  </thead>\n",
              "  <tbody>\n",
              "    <tr>\n",
              "      <th>0</th>\n",
              "      <td>Once again Mr. Costner has dragged out a movie...</td>\n",
              "      <td>0</td>\n",
              "    </tr>\n",
              "    <tr>\n",
              "      <th>1</th>\n",
              "      <td>This is an example of why the majority of acti...</td>\n",
              "      <td>0</td>\n",
              "    </tr>\n",
              "    <tr>\n",
              "      <th>2</th>\n",
              "      <td>First of all I hate those moronic rappers, who...</td>\n",
              "      <td>0</td>\n",
              "    </tr>\n",
              "    <tr>\n",
              "      <th>3</th>\n",
              "      <td>Not even the Beatles could write songs everyon...</td>\n",
              "      <td>0</td>\n",
              "    </tr>\n",
              "    <tr>\n",
              "      <th>4</th>\n",
              "      <td>Brass pictures (movies is not a fitting word f...</td>\n",
              "      <td>0</td>\n",
              "    </tr>\n",
              "    <tr>\n",
              "      <th>...</th>\n",
              "      <td>...</td>\n",
              "      <td>...</td>\n",
              "    </tr>\n",
              "    <tr>\n",
              "      <th>49201</th>\n",
              "      <td>Seeing as the vote average was pretty low, and...</td>\n",
              "      <td>1</td>\n",
              "    </tr>\n",
              "    <tr>\n",
              "      <th>49202</th>\n",
              "      <td>The plot had some wretched, unbelievable twist...</td>\n",
              "      <td>1</td>\n",
              "    </tr>\n",
              "    <tr>\n",
              "      <th>49203</th>\n",
              "      <td>I am amazed at how this movie(and most others ...</td>\n",
              "      <td>1</td>\n",
              "    </tr>\n",
              "    <tr>\n",
              "      <th>49204</th>\n",
              "      <td>A Christmas Together actually came before my t...</td>\n",
              "      <td>1</td>\n",
              "    </tr>\n",
              "    <tr>\n",
              "      <th>49205</th>\n",
              "      <td>Working-class romantic drama from director Mar...</td>\n",
              "      <td>1</td>\n",
              "    </tr>\n",
              "  </tbody>\n",
              "</table>\n",
              "<p>49206 rows × 2 columns</p>\n",
              "</div>"
            ],
            "text/plain": [
              "                                                    text  classification\n",
              "0      Once again Mr. Costner has dragged out a movie...               0\n",
              "1      This is an example of why the majority of acti...               0\n",
              "2      First of all I hate those moronic rappers, who...               0\n",
              "3      Not even the Beatles could write songs everyon...               0\n",
              "4      Brass pictures (movies is not a fitting word f...               0\n",
              "...                                                  ...             ...\n",
              "49201  Seeing as the vote average was pretty low, and...               1\n",
              "49202  The plot had some wretched, unbelievable twist...               1\n",
              "49203  I am amazed at how this movie(and most others ...               1\n",
              "49204  A Christmas Together actually came before my t...               1\n",
              "49205  Working-class romantic drama from director Mar...               1\n",
              "\n",
              "[49206 rows x 2 columns]"
            ]
          },
          "metadata": {},
          "execution_count": 5
        }
      ]
    },
    {
      "cell_type": "code",
      "metadata": {
        "id": "cg2yElVDGLfa"
      },
      "source": [
        "def clean_df(df):\n",
        "  unwanted_ss = ['<br />', 'http\\S+|www.\\S+']\n",
        "  stopwords = [\"i\", \"I\", \"me\", \"my\", \"myself\", \"we\", \"our\", \"ours\", \"ourselves\", \"you\", \"your\", \"yours\", \"yourself\", \"yourselves\", \"he\", \"him\", \"his\", \"himself\", \"she\", \"her\", \"hers\", \"herself\", \"it\", \"its\", \"itself\", \"they\", \"them\", \"their\", \"theirs\", \"themselves\", \"what\", \"which\", \"who\", \"whom\", \"this\", \"that\", \"these\", \"those\", \"am\", \"is\", \"are\", \"was\", \"were\", \"be\", \"been\", \"being\", \"have\", \"has\", \"had\", \"having\", \"do\", \"does\", \"did\", \"doing\", \"a\", \"an\", \"the\", \"and\", \"but\", \"if\", \"or\", \"because\", \"as\", \"until\", \"while\", \"of\", \"at\", \"by\", \"for\", \"with\", \"about\", \"against\", \"between\", \"into\", \"through\", \"during\", \"before\", \"after\", \"above\", \"below\", \"to\", \"from\", \"up\", \"down\", \"in\", \"out\", \"on\", \"off\", \"over\", \"under\", \"again\", \"further\", \"then\", \"once\", \"here\", \"there\", \"when\", \"where\", \"why\", \"how\", \"all\", \"any\", \"both\", \"each\", \"few\", \"more\", \"most\", \"other\", \"some\", \"such\", \"only\", \"own\", \"same\", \"so\", \"than\", \"too\", \"very\", \"s\", \"can\", \"will\", \"just\", \"should\", \"now\"]\n",
        "  joined = unwanted_ss + stopwords\n",
        "  df['text'] = df['text'].apply(lambda x: ' '.join([word for word in x.split() if word not in (joined)]))\n",
        "  return df"
      ],
      "execution_count": null,
      "outputs": []
    },
    {
      "cell_type": "code",
      "metadata": {
        "colab": {
          "base_uri": "https://localhost:8080/",
          "height": 423
        },
        "id": "_RXJiyg3IcTu",
        "outputId": "da4db38e-e756-4d44-e9f4-7173e8b551aa"
      },
      "source": [
        "reviews_df_clean = clean_df(reviews_df)\n",
        "reviews_df_clean"
      ],
      "execution_count": null,
      "outputs": [
        {
          "output_type": "execute_result",
          "data": {
            "text/html": [
              "<div>\n",
              "<style scoped>\n",
              "    .dataframe tbody tr th:only-of-type {\n",
              "        vertical-align: middle;\n",
              "    }\n",
              "\n",
              "    .dataframe tbody tr th {\n",
              "        vertical-align: top;\n",
              "    }\n",
              "\n",
              "    .dataframe thead th {\n",
              "        text-align: right;\n",
              "    }\n",
              "</style>\n",
              "<table border=\"1\" class=\"dataframe\">\n",
              "  <thead>\n",
              "    <tr style=\"text-align: right;\">\n",
              "      <th></th>\n",
              "      <th>text</th>\n",
              "      <th>classification</th>\n",
              "    </tr>\n",
              "  </thead>\n",
              "  <tbody>\n",
              "    <tr>\n",
              "      <th>0</th>\n",
              "      <td>Once Mr. Costner dragged movie far longer nece...</td>\n",
              "      <td>0</td>\n",
              "    </tr>\n",
              "    <tr>\n",
              "      <th>1</th>\n",
              "      <td>This example majority action films same. Gener...</td>\n",
              "      <td>0</td>\n",
              "    </tr>\n",
              "    <tr>\n",
              "      <th>2</th>\n",
              "      <td>First hate moronic rappers, could'nt act gun p...</td>\n",
              "      <td>0</td>\n",
              "    </tr>\n",
              "    <tr>\n",
              "      <th>3</th>\n",
              "      <td>Not even Beatles could write songs everyone li...</td>\n",
              "      <td>0</td>\n",
              "    </tr>\n",
              "    <tr>\n",
              "      <th>4</th>\n",
              "      <td>Brass pictures (movies not fitting word them) ...</td>\n",
              "      <td>0</td>\n",
              "    </tr>\n",
              "    <tr>\n",
              "      <th>...</th>\n",
              "      <td>...</td>\n",
              "      <td>...</td>\n",
              "    </tr>\n",
              "    <tr>\n",
              "      <th>49201</th>\n",
              "      <td>Seeing vote average pretty low, fact clerk vid...</td>\n",
              "      <td>1</td>\n",
              "    </tr>\n",
              "    <tr>\n",
              "      <th>49202</th>\n",
              "      <td>The plot wretched, unbelievable twists. Howeve...</td>\n",
              "      <td>1</td>\n",
              "    </tr>\n",
              "    <tr>\n",
              "      <th>49203</th>\n",
              "      <td>amazed movie(and others average 5 stars lower ...</td>\n",
              "      <td>1</td>\n",
              "    </tr>\n",
              "    <tr>\n",
              "      <th>49204</th>\n",
              "      <td>A Christmas Together actually came time, I've ...</td>\n",
              "      <td>1</td>\n",
              "    </tr>\n",
              "    <tr>\n",
              "      <th>49205</th>\n",
              "      <td>Working-class romantic drama director Martin R...</td>\n",
              "      <td>1</td>\n",
              "    </tr>\n",
              "  </tbody>\n",
              "</table>\n",
              "<p>49206 rows × 2 columns</p>\n",
              "</div>"
            ],
            "text/plain": [
              "                                                    text  classification\n",
              "0      Once Mr. Costner dragged movie far longer nece...               0\n",
              "1      This example majority action films same. Gener...               0\n",
              "2      First hate moronic rappers, could'nt act gun p...               0\n",
              "3      Not even Beatles could write songs everyone li...               0\n",
              "4      Brass pictures (movies not fitting word them) ...               0\n",
              "...                                                  ...             ...\n",
              "49201  Seeing vote average pretty low, fact clerk vid...               1\n",
              "49202  The plot wretched, unbelievable twists. Howeve...               1\n",
              "49203  amazed movie(and others average 5 stars lower ...               1\n",
              "49204  A Christmas Together actually came time, I've ...               1\n",
              "49205  Working-class romantic drama director Martin R...               1\n",
              "\n",
              "[49206 rows x 2 columns]"
            ]
          },
          "metadata": {},
          "execution_count": 7
        }
      ]
    },
    {
      "cell_type": "code",
      "metadata": {
        "colab": {
          "base_uri": "https://localhost:8080/"
        },
        "id": "4I28rMGhKU0E",
        "outputId": "3d50f5a3-8b1e-44a0-8a7e-3596198aaba0"
      },
      "source": [
        "tokenizer = Tokenizer()\n",
        "tokenizer.fit_on_texts(reviews_df_clean['text'])\n",
        "tokenizer.texts_to_sequences(reviews_df_clean['text'])\n",
        "pad_sequences(tokenizer.texts_to_sequences(reviews_df_clean['text']))"
      ],
      "execution_count": null,
      "outputs": [
        {
          "output_type": "execute_result",
          "data": {
            "text/plain": [
              "array([[    0,     0,     0, ...,  1609,   475,    30],\n",
              "       [    0,     0,     0, ...,   105,   396,    82],\n",
              "       [    0,     0,     0, ...,    72,    77,   100],\n",
              "       ...,\n",
              "       [    0,     0,     0, ...,  1088,   133, 10237],\n",
              "       [    0,     0,     0, ...,  8737,  3830,    20],\n",
              "       [    0,     0,     0, ...,    16,  2423,    34]], dtype=int32)"
            ]
          },
          "metadata": {},
          "execution_count": 8
        }
      ]
    },
    {
      "cell_type": "code",
      "metadata": {
        "colab": {
          "base_uri": "https://localhost:8080/"
        },
        "id": "GNsw9fODUyVh",
        "outputId": "b0791a64-c7a4-433d-d04a-b3f98aa10077"
      },
      "source": [
        "print(len(tokenizer.word_index))"
      ],
      "execution_count": null,
      "outputs": [
        {
          "output_type": "stream",
          "name": "stdout",
          "text": [
            "118791\n"
          ]
        }
      ]
    },
    {
      "cell_type": "code",
      "metadata": {
        "colab": {
          "base_uri": "https://localhost:8080/"
        },
        "id": "ZdkEyzucVAqd",
        "outputId": "8ef32d4a-b01d-4e24-c67c-cea453752321"
      },
      "source": [
        "embedding_matrix = np.zeros((len(tokenizer.word_index) + 1, 300))\n",
        "embedding_matrix"
      ],
      "execution_count": null,
      "outputs": [
        {
          "output_type": "execute_result",
          "data": {
            "text/plain": [
              "array([[0., 0., 0., ..., 0., 0., 0.],\n",
              "       [0., 0., 0., ..., 0., 0., 0.],\n",
              "       [0., 0., 0., ..., 0., 0., 0.],\n",
              "       ...,\n",
              "       [0., 0., 0., ..., 0., 0., 0.],\n",
              "       [0., 0., 0., ..., 0., 0., 0.],\n",
              "       [0., 0., 0., ..., 0., 0., 0.]])"
            ]
          },
          "metadata": {},
          "execution_count": 10
        }
      ]
    },
    {
      "cell_type": "code",
      "metadata": {
        "id": "ZInfqV4B0u-n"
      },
      "source": [
        "embeddings_index = {}\n",
        "f = open('glove.6B.300d.txt')\n",
        "\n",
        "for line in f:\n",
        "  values = line.split()\n",
        "  word = values[0]\n",
        "  floats = np.asarray(values[1:], dtype='float32')\n",
        "  embeddings_index[word] = floats\n",
        "f.close()"
      ],
      "execution_count": null,
      "outputs": []
    },
    {
      "cell_type": "code",
      "metadata": {
        "colab": {
          "base_uri": "https://localhost:8080/"
        },
        "id": "naLUcFoz19I_",
        "outputId": "3f86ee7f-9cb3-4877-baf9-d6d8e2fbff79"
      },
      "source": [
        "for word, i in tokenizer.word_index.items():\n",
        "  embedding_vector = embeddings_index.get(word)\n",
        "  if embedding_vector is not None:\n",
        "    embedding_matrix[i] = embedding_vector\n",
        "embedding_matrix"
      ],
      "execution_count": null,
      "outputs": [
        {
          "output_type": "execute_result",
          "data": {
            "text/plain": [
              "array([[ 0.        ,  0.        ,  0.        , ...,  0.        ,\n",
              "         0.        ,  0.        ],\n",
              "       [ 0.40287   , -0.48699   ,  0.091598  , ..., -0.66092002,\n",
              "         0.54541999,  0.28307   ],\n",
              "       [ 0.04656   ,  0.21318001, -0.0074364 , ...,  0.0090611 ,\n",
              "        -0.20988999,  0.053913  ],\n",
              "       ...,\n",
              "       [ 0.        ,  0.        ,  0.        , ...,  0.        ,\n",
              "         0.        ,  0.        ],\n",
              "       [ 0.        ,  0.        ,  0.        , ...,  0.        ,\n",
              "         0.        ,  0.        ],\n",
              "       [ 0.        ,  0.        ,  0.        , ...,  0.        ,\n",
              "         0.        ,  0.        ]])"
            ]
          },
          "metadata": {},
          "execution_count": 13
        }
      ]
    },
    {
      "cell_type": "code",
      "metadata": {
        "id": "cXhZV5km2L-j"
      },
      "source": [
        "embedding_layer = Embedding(len(tokenizer.word_index) + 1, 300, weights=[embedding_matrix], input_length=300, trainable=False)"
      ],
      "execution_count": null,
      "outputs": []
    },
    {
      "cell_type": "markdown",
      "metadata": {
        "id": "io7SrF2rkAEI"
      },
      "source": [
        "# Architecture 1"
      ]
    },
    {
      "cell_type": "code",
      "metadata": {
        "colab": {
          "base_uri": "https://localhost:8080/"
        },
        "id": "OXgiaM8q2dcf",
        "outputId": "dc3b4abe-e8c9-4084-f09a-6e58901c6989"
      },
      "source": [
        "model = Sequential()\n",
        "model.add(embedding_layer)\n",
        "model.add(Dropout(0.5))\n",
        "model.add(LSTM(100, dropout=0.2, recurrent_dropout=0.2))\n",
        "model.add(Dense(1, activation='sigmoid'))\n",
        "model.summary()"
      ],
      "execution_count": null,
      "outputs": [
        {
          "output_type": "stream",
          "name": "stdout",
          "text": [
            "Model: \"sequential_1\"\n",
            "_________________________________________________________________\n",
            "Layer (type)                 Output Shape              Param #   \n",
            "=================================================================\n",
            "embedding (Embedding)        (None, 300, 300)          35637600  \n",
            "_________________________________________________________________\n",
            "dropout_1 (Dropout)          (None, 300, 300)          0         \n",
            "_________________________________________________________________\n",
            "lstm_1 (LSTM)                (None, 100)               160400    \n",
            "_________________________________________________________________\n",
            "dense_1 (Dense)              (None, 1)                 101       \n",
            "=================================================================\n",
            "Total params: 35,798,101\n",
            "Trainable params: 160,501\n",
            "Non-trainable params: 35,637,600\n",
            "_________________________________________________________________\n"
          ]
        }
      ]
    },
    {
      "cell_type": "code",
      "metadata": {
        "id": "VwAqk7bP2ki3"
      },
      "source": [
        "model.compile(loss='binary_crossentropy',\n",
        "              optimizer=\"adam\",\n",
        "              metrics=['accuracy'])"
      ],
      "execution_count": null,
      "outputs": []
    },
    {
      "cell_type": "code",
      "metadata": {
        "id": "jVDZqS-J3o7d"
      },
      "source": [
        "#from sklearn.model_selection import train_test_split"
      ],
      "execution_count": null,
      "outputs": []
    },
    {
      "cell_type": "code",
      "metadata": {
        "id": "lhXKCdST2vp9"
      },
      "source": [
        "train_data, test_data = train_test_split(reviews_df_clean, test_size=0.2, \n",
        "                                         random_state=7)"
      ],
      "execution_count": null,
      "outputs": []
    },
    {
      "cell_type": "code",
      "metadata": {
        "colab": {
          "base_uri": "https://localhost:8080/"
        },
        "id": "cvFuk3E83zni",
        "outputId": "2c46107c-fc67-4128-9aac-93665186dacd"
      },
      "source": [
        "encoder = LabelEncoder()\n",
        "encoder.fit(train_data.classification.tolist())\n",
        "\n",
        "y_train = encoder.transform(train_data.classification.tolist())\n",
        "y_test = encoder.transform(test_data.classification.tolist())\n",
        "\n",
        "y_train = y_train.reshape(-1,1)\n",
        "y_test = y_test.reshape(-1,1)\n",
        "\n",
        "print(\"y_train\",y_train.shape)\n",
        "print(\"y_test\",y_test.shape)"
      ],
      "execution_count": null,
      "outputs": [
        {
          "output_type": "stream",
          "name": "stdout",
          "text": [
            "y_train (39364, 1)\n",
            "y_test (9842, 1)\n"
          ]
        }
      ]
    },
    {
      "cell_type": "code",
      "metadata": {
        "id": "VeTWvCpg5C0Z"
      },
      "source": [
        "x_train = pad_sequences(tokenizer.texts_to_sequences(train_data.text), maxlen=300)\n",
        "x_test = pad_sequences(tokenizer.texts_to_sequences(test_data.text), maxlen=300)"
      ],
      "execution_count": null,
      "outputs": []
    },
    {
      "cell_type": "code",
      "metadata": {
        "colab": {
          "base_uri": "https://localhost:8080/"
        },
        "id": "gDJahFET5bK_",
        "outputId": "7c311a23-1a9a-4c07-b021-0c0b114bfd80"
      },
      "source": [
        "history = model.fit(x_train, y_train,\n",
        "                    batch_size=128,\n",
        "                    epochs=10,\n",
        "                    validation_split=0.2)"
      ],
      "execution_count": null,
      "outputs": [
        {
          "output_type": "stream",
          "name": "stdout",
          "text": [
            "Epoch 1/10\n",
            "247/247 [==============================] - 536s 2s/step - loss: 0.4931 - accuracy: 0.7598 - val_loss: 0.4917 - val_accuracy: 0.8194\n",
            "Epoch 2/10\n",
            "247/247 [==============================] - 533s 2s/step - loss: 0.4178 - accuracy: 0.8114 - val_loss: 0.3742 - val_accuracy: 0.8548\n",
            "Epoch 3/10\n",
            "247/247 [==============================] - 534s 2s/step - loss: 0.3680 - accuracy: 0.8386 - val_loss: 0.3627 - val_accuracy: 0.8618\n",
            "Epoch 4/10\n",
            "247/247 [==============================] - 532s 2s/step - loss: 0.3344 - accuracy: 0.8541 - val_loss: 0.3096 - val_accuracy: 0.8753\n",
            "Epoch 5/10\n",
            "247/247 [==============================] - 532s 2s/step - loss: 0.3169 - accuracy: 0.8645 - val_loss: 0.2929 - val_accuracy: 0.8806\n",
            "Epoch 6/10\n",
            "247/247 [==============================] - 532s 2s/step - loss: 0.2985 - accuracy: 0.8731 - val_loss: 0.3113 - val_accuracy: 0.8791\n",
            "Epoch 7/10\n",
            "247/247 [==============================] - 535s 2s/step - loss: 0.2848 - accuracy: 0.8792 - val_loss: 0.2870 - val_accuracy: 0.8868\n",
            "Epoch 8/10\n",
            "247/247 [==============================] - 536s 2s/step - loss: 0.2767 - accuracy: 0.8838 - val_loss: 0.2746 - val_accuracy: 0.8938\n",
            "Epoch 9/10\n",
            "247/247 [==============================] - 535s 2s/step - loss: 0.2705 - accuracy: 0.8859 - val_loss: 0.2690 - val_accuracy: 0.8934\n",
            "Epoch 10/10\n",
            "247/247 [==============================] - 535s 2s/step - loss: 0.2604 - accuracy: 0.8920 - val_loss: 0.2871 - val_accuracy: 0.8939\n"
          ]
        }
      ]
    },
    {
      "cell_type": "code",
      "metadata": {
        "colab": {
          "base_uri": "https://localhost:8080/"
        },
        "id": "RYsbPXNuBqld",
        "outputId": "c137651e-fee2-4ff4-b9ba-be5ef0eddf6e"
      },
      "source": [
        "score = model.evaluate(x_test, y_test, batch_size=128)\n",
        "print()\n",
        "print(\"ACCURACY:\",score[1])\n",
        "print(\"LOSS:\",score[0])"
      ],
      "execution_count": null,
      "outputs": [
        {
          "output_type": "stream",
          "name": "stdout",
          "text": [
            "77/77 [==============================] - 30s 396ms/step - loss: 0.2871 - accuracy: 0.8899\n",
            "\n",
            "ACCURACY: 0.8898597955703735\n",
            "LOSS: 0.2870611548423767\n"
          ]
        }
      ]
    },
    {
      "cell_type": "code",
      "metadata": {
        "id": "_KAH0t5Aaom5"
      },
      "source": [
        "def decode_sentiment(score, include_neutral=True):\n",
        "    if include_neutral:        \n",
        "        label = \"NEUTRAL\"\n",
        "        if score <= 0.4:\n",
        "            label = \"NEGATIVE\"\n",
        "        elif score >= 0.7:\n",
        "            label = \"POSITIVE\"\n",
        "\n",
        "        return label\n",
        "    else:\n",
        "        return 0 if score < 0.5 else 1"
      ],
      "execution_count": null,
      "outputs": []
    },
    {
      "cell_type": "code",
      "metadata": {
        "id": "CodkqkvNenh9"
      },
      "source": [
        "import time"
      ],
      "execution_count": null,
      "outputs": []
    },
    {
      "cell_type": "code",
      "metadata": {
        "id": "LVwdMW8_eGZK"
      },
      "source": [
        "def predict(text, include_neutral=True):\n",
        "    start_at = time.time()\n",
        "    # Tokenize text\n",
        "    x_test = pad_sequences(tokenizer.texts_to_sequences([text]), maxlen=300)\n",
        "    # Predict\n",
        "    score = model.predict([x_test])[0]\n",
        "    # Decode sentiment\n",
        "    label = decode_sentiment(score, include_neutral=include_neutral)\n",
        "\n",
        "    return {\"label\": label, \"score\": float(score),\n",
        "       \"elapsed_time\": time.time()-start_at}"
      ],
      "execution_count": null,
      "outputs": []
    },
    {
      "cell_type": "code",
      "metadata": {
        "colab": {
          "base_uri": "https://localhost:8080/"
        },
        "id": "iWBvFNa-eeT2",
        "outputId": "b3eb5bbc-94ed-429a-e75a-5db461ec18c7"
      },
      "source": [
        "predict(\"I hated this movie, it's awful. I almost threw up.\")"
      ],
      "execution_count": null,
      "outputs": [
        {
          "output_type": "execute_result",
          "data": {
            "text/plain": [
              "{'elapsed_time': 0.09603333473205566,\n",
              " 'label': 'NEGATIVE',\n",
              " 'score': 0.07438838481903076}"
            ]
          },
          "metadata": {},
          "execution_count": 44
        }
      ]
    },
    {
      "cell_type": "code",
      "metadata": {
        "colab": {
          "base_uri": "https://localhost:8080/"
        },
        "id": "RYNlm0Y6e22-",
        "outputId": "e6384c6f-773b-4a7e-e396-a8d71e4b5706"
      },
      "source": [
        "predict(\"That was awesome! I would definitely watch it again.\")"
      ],
      "execution_count": null,
      "outputs": [
        {
          "output_type": "execute_result",
          "data": {
            "text/plain": [
              "{'elapsed_time': 0.09218192100524902,\n",
              " 'label': 'POSITIVE',\n",
              " 'score': 0.90274977684021}"
            ]
          },
          "metadata": {},
          "execution_count": 45
        }
      ]
    },
    {
      "cell_type": "code",
      "metadata": {
        "colab": {
          "base_uri": "https://localhost:8080/"
        },
        "id": "jVLdHu2efAn2",
        "outputId": "c148a2c7-e602-4eed-b750-0c9f5f7bce0d"
      },
      "source": [
        "predict(\"Honestly, it was an okay movie. I liked some parts and disliked others.\")"
      ],
      "execution_count": null,
      "outputs": [
        {
          "output_type": "execute_result",
          "data": {
            "text/plain": [
              "{'elapsed_time': 0.09893321990966797,\n",
              " 'label': 'NEUTRAL',\n",
              " 'score': 0.5404224991798401}"
            ]
          },
          "metadata": {},
          "execution_count": 46
        }
      ]
    },
    {
      "cell_type": "code",
      "metadata": {
        "colab": {
          "base_uri": "https://localhost:8080/"
        },
        "id": "MNxLTwuHfh0g",
        "outputId": "4e8b0fbd-5f23-475e-f8c3-58daf384878c"
      },
      "source": [
        "y_pred_1d = []\n",
        "y_test_1d = list(test_data.classification)\n",
        "scores = model.predict(x_test, verbose=1, batch_size=8000)\n",
        "y_pred_1d = [decode_sentiment(score, include_neutral=False) for score in scores]"
      ],
      "execution_count": null,
      "outputs": [
        {
          "output_type": "stream",
          "name": "stdout",
          "text": [
            "2/2 [==============================] - 42s 6s/step\n"
          ]
        }
      ]
    },
    {
      "cell_type": "code",
      "metadata": {
        "colab": {
          "base_uri": "https://localhost:8080/"
        },
        "id": "axBVJvKvwJor",
        "outputId": "be25258d-7b99-41d0-d41a-756fd7c5254b"
      },
      "source": [
        "print(len(y_pred_1d))\n",
        "print(len(y_test_1d))\n",
        "print(len(scores))"
      ],
      "execution_count": null,
      "outputs": [
        {
          "output_type": "stream",
          "name": "stdout",
          "text": [
            "9842\n",
            "9842\n",
            "9842\n"
          ]
        }
      ]
    },
    {
      "cell_type": "code",
      "metadata": {
        "id": "QkW-jC1pgots"
      },
      "source": [
        "from sklearn.metrics import confusion_matrix, classification_report, accuracy_score"
      ],
      "execution_count": null,
      "outputs": []
    },
    {
      "cell_type": "code",
      "metadata": {
        "colab": {
          "base_uri": "https://localhost:8080/"
        },
        "id": "tAVhvtwwgerI",
        "outputId": "b85dc063-22e6-4931-e327-c3a4da3b9a7e"
      },
      "source": [
        "print(classification_report(y_test_1d, y_pred_1d))\n",
        "# 0 - Negative, 1 - Positive"
      ],
      "execution_count": null,
      "outputs": [
        {
          "output_type": "stream",
          "name": "stdout",
          "text": [
            "              precision    recall  f1-score   support\n",
            "\n",
            "           0       0.86      0.92      0.89      4791\n",
            "           1       0.92      0.86      0.89      5051\n",
            "\n",
            "    accuracy                           0.89      9842\n",
            "   macro avg       0.89      0.89      0.89      9842\n",
            "weighted avg       0.89      0.89      0.89      9842\n",
            "\n"
          ]
        }
      ]
    },
    {
      "cell_type": "markdown",
      "metadata": {
        "id": "LzTLtTFxnOKO"
      },
      "source": [
        "# Architecture 2"
      ]
    },
    {
      "cell_type": "code",
      "metadata": {
        "colab": {
          "base_uri": "https://localhost:8080/"
        },
        "id": "wmQJjEFOnS-z",
        "outputId": "feac4234-80c1-46c9-8da9-26cbe4a1a0f1"
      },
      "source": [
        "model2 = Sequential()\n",
        "model2.add(embedding_layer)\n",
        "model2.add(Dropout(0.5))\n",
        "model2.add(Dense(60, activation='relu'))\n",
        "model2.add(Dense(1, activation='sigmoid'))\n",
        "model2.summary()"
      ],
      "execution_count": null,
      "outputs": [
        {
          "output_type": "stream",
          "name": "stdout",
          "text": [
            "Model: \"sequential_9\"\n",
            "_________________________________________________________________\n",
            "Layer (type)                 Output Shape              Param #   \n",
            "=================================================================\n",
            "embedding (Embedding)        (None, 300, 300)          35637600  \n",
            "_________________________________________________________________\n",
            "dropout_2 (Dropout)          (None, 300, 300)          0         \n",
            "_________________________________________________________________\n",
            "dense_16 (Dense)             (None, 300, 60)           18060     \n",
            "_________________________________________________________________\n",
            "dense_17 (Dense)             (None, 300, 1)            61        \n",
            "=================================================================\n",
            "Total params: 35,655,721\n",
            "Trainable params: 18,121\n",
            "Non-trainable params: 35,637,600\n",
            "_________________________________________________________________\n"
          ]
        }
      ]
    },
    {
      "cell_type": "code",
      "metadata": {
        "id": "x7gaMeRKovUk"
      },
      "source": [
        "# Compile model\n",
        "model2.compile(loss='binary_crossentropy', optimizer='adam', metrics=['accuracy'])"
      ],
      "execution_count": null,
      "outputs": []
    },
    {
      "cell_type": "code",
      "metadata": {
        "colab": {
          "base_uri": "https://localhost:8080/"
        },
        "id": "Cpxs3ffNo4mF",
        "outputId": "7ac6fab5-8816-4584-f4c6-b21deb8219ec"
      },
      "source": [
        "history2 = model2.fit(x_train, y_train,\n",
        "                    batch_size=128,\n",
        "                    epochs=10,\n",
        "                    validation_split=0.2)"
      ],
      "execution_count": null,
      "outputs": [
        {
          "output_type": "stream",
          "name": "stdout",
          "text": [
            "Epoch 1/10\n",
            "247/247 [==============================] - 53s 214ms/step - loss: 0.6917 - accuracy: 0.5217 - val_loss: 0.6874 - val_accuracy: 0.5274\n",
            "Epoch 2/10\n",
            "247/247 [==============================] - 52s 212ms/step - loss: 0.6891 - accuracy: 0.5259 - val_loss: 0.6868 - val_accuracy: 0.5287\n",
            "Epoch 3/10\n",
            "247/247 [==============================] - 52s 212ms/step - loss: 0.6885 - accuracy: 0.5268 - val_loss: 0.6868 - val_accuracy: 0.5279\n",
            "Epoch 4/10\n",
            "247/247 [==============================] - 52s 212ms/step - loss: 0.6881 - accuracy: 0.5276 - val_loss: 0.6862 - val_accuracy: 0.5296\n",
            "Epoch 5/10\n",
            "247/247 [==============================] - 52s 212ms/step - loss: 0.6876 - accuracy: 0.5288 - val_loss: 0.6860 - val_accuracy: 0.5302\n",
            "Epoch 6/10\n",
            "247/247 [==============================] - 52s 212ms/step - loss: 0.6874 - accuracy: 0.5294 - val_loss: 0.6858 - val_accuracy: 0.5307\n",
            "Epoch 7/10\n",
            "247/247 [==============================] - 52s 212ms/step - loss: 0.6873 - accuracy: 0.5297 - val_loss: 0.6857 - val_accuracy: 0.5307\n",
            "Epoch 8/10\n",
            "247/247 [==============================] - 52s 212ms/step - loss: 0.6871 - accuracy: 0.5303 - val_loss: 0.6857 - val_accuracy: 0.5305\n",
            "Epoch 9/10\n",
            "247/247 [==============================] - 52s 212ms/step - loss: 0.6871 - accuracy: 0.5299 - val_loss: 0.6856 - val_accuracy: 0.5310\n",
            "Epoch 10/10\n",
            "247/247 [==============================] - 53s 213ms/step - loss: 0.6869 - accuracy: 0.5306 - val_loss: 0.6855 - val_accuracy: 0.5311\n"
          ]
        }
      ]
    },
    {
      "cell_type": "code",
      "metadata": {
        "colab": {
          "base_uri": "https://localhost:8080/"
        },
        "id": "MZeFSZx7tcVv",
        "outputId": "d8d4ed53-d1ea-4448-f710-d54fe6c8b0d6"
      },
      "source": [
        "y_pred_1d2 = []\n",
        "y_test_1d2 = list(test_data.classification)\n",
        "scores2 = model2.predict(x_test, verbose=1, batch_size=8000)\n",
        "y_pred_1d2 = [decode_sentiment(score[0], include_neutral=False) for score in scores2]"
      ],
      "execution_count": null,
      "outputs": [
        {
          "output_type": "stream",
          "name": "stdout",
          "text": [
            "2/2 [==============================] - 3s 616ms/step\n"
          ]
        }
      ]
    },
    {
      "cell_type": "code",
      "metadata": {
        "colab": {
          "base_uri": "https://localhost:8080/"
        },
        "id": "0DuogBqbttrp",
        "outputId": "fb4ac80c-1f45-48f8-9307-b6a2b05ebaae"
      },
      "source": [
        "print(classification_report(y_test_1d2, y_pred_1d2))\n",
        "# 0 - Negative, 1 - Positive\n",
        "#print(len(y_test_1d2))\n",
        "#print(len(y_pred_1d2))"
      ],
      "execution_count": null,
      "outputs": [
        {
          "output_type": "stream",
          "name": "stdout",
          "text": [
            "              precision    recall  f1-score   support\n",
            "\n",
            "           0       0.56      0.03      0.06      4791\n",
            "           1       0.52      0.98      0.67      5051\n",
            "\n",
            "    accuracy                           0.52      9842\n",
            "   macro avg       0.54      0.50      0.37      9842\n",
            "weighted avg       0.53      0.52      0.37      9842\n",
            "\n"
          ]
        }
      ]
    },
    {
      "cell_type": "markdown",
      "metadata": {
        "id": "0YTCmnI5pQQZ"
      },
      "source": [
        "# Architecture 3"
      ]
    },
    {
      "cell_type": "code",
      "metadata": {
        "colab": {
          "base_uri": "https://localhost:8080/"
        },
        "id": "C4APJz1FpOaZ",
        "outputId": "937e4212-c3ac-4a2c-b597-ca4f3843c8a1"
      },
      "source": [
        "model3 = Sequential()\n",
        "model3.add(embedding_layer)\n",
        "model3.add(Dense(units=8, input_dim=4,\n",
        "  activation='tanh')) \n",
        "model3.add(Dense(units=8, activation='tanh')) \n",
        "model3.add(Dense(units=1, activation='sigmoid'))\n",
        "model3.summary()"
      ],
      "execution_count": null,
      "outputs": [
        {
          "output_type": "stream",
          "name": "stdout",
          "text": [
            "Model: \"sequential_7\"\n",
            "_________________________________________________________________\n",
            "Layer (type)                 Output Shape              Param #   \n",
            "=================================================================\n",
            "embedding (Embedding)        (None, 300, 300)          35637600  \n",
            "_________________________________________________________________\n",
            "dense_11 (Dense)             (None, 300, 8)            2408      \n",
            "_________________________________________________________________\n",
            "dense_12 (Dense)             (None, 300, 8)            72        \n",
            "_________________________________________________________________\n",
            "dense_13 (Dense)             (None, 300, 1)            9         \n",
            "=================================================================\n",
            "Total params: 35,640,089\n",
            "Trainable params: 2,489\n",
            "Non-trainable params: 35,637,600\n",
            "_________________________________________________________________\n"
          ]
        }
      ]
    },
    {
      "cell_type": "code",
      "metadata": {
        "id": "wTQsOooapVJm"
      },
      "source": [
        "# Compile model\n",
        "model3.compile(loss='binary_crossentropy', optimizer='adam', metrics=['accuracy'])"
      ],
      "execution_count": null,
      "outputs": []
    },
    {
      "cell_type": "code",
      "metadata": {
        "colab": {
          "base_uri": "https://localhost:8080/"
        },
        "id": "wEFcc6JWpVS_",
        "outputId": "c05eb1c9-2550-47f4-c6ec-8d0c74979c41"
      },
      "source": [
        "history3 = model3.fit(x_train, y_train,\n",
        "                    batch_size=128,\n",
        "                    epochs=10,\n",
        "                    validation_split=0.2)"
      ],
      "execution_count": null,
      "outputs": [
        {
          "output_type": "stream",
          "name": "stdout",
          "text": [
            "Epoch 1/10\n",
            "247/247 [==============================] - 17s 67ms/step - loss: 0.6900 - accuracy: 0.5219 - val_loss: 0.6880 - val_accuracy: 0.5249\n",
            "Epoch 2/10\n",
            "247/247 [==============================] - 16s 64ms/step - loss: 0.6880 - accuracy: 0.5269 - val_loss: 0.6880 - val_accuracy: 0.5253\n",
            "Epoch 3/10\n",
            "247/247 [==============================] - 16s 64ms/step - loss: 0.6877 - accuracy: 0.5287 - val_loss: 0.6875 - val_accuracy: 0.5263\n",
            "Epoch 4/10\n",
            "247/247 [==============================] - 16s 64ms/step - loss: 0.6875 - accuracy: 0.5290 - val_loss: 0.6875 - val_accuracy: 0.5260\n",
            "Epoch 5/10\n",
            "247/247 [==============================] - 16s 64ms/step - loss: 0.6873 - accuracy: 0.5290 - val_loss: 0.6874 - val_accuracy: 0.5262\n",
            "Epoch 6/10\n",
            "247/247 [==============================] - 16s 64ms/step - loss: 0.6873 - accuracy: 0.5297 - val_loss: 0.6872 - val_accuracy: 0.5269\n",
            "Epoch 7/10\n",
            "247/247 [==============================] - 16s 64ms/step - loss: 0.6871 - accuracy: 0.5301 - val_loss: 0.6869 - val_accuracy: 0.5278\n",
            "Epoch 8/10\n",
            "247/247 [==============================] - 16s 64ms/step - loss: 0.6870 - accuracy: 0.5303 - val_loss: 0.6872 - val_accuracy: 0.5270\n",
            "Epoch 9/10\n",
            "247/247 [==============================] - 16s 64ms/step - loss: 0.6868 - accuracy: 0.5308 - val_loss: 0.6868 - val_accuracy: 0.5281\n",
            "Epoch 10/10\n",
            "247/247 [==============================] - 16s 64ms/step - loss: 0.6867 - accuracy: 0.5295 - val_loss: 0.6867 - val_accuracy: 0.5281\n"
          ]
        }
      ]
    },
    {
      "cell_type": "code",
      "metadata": {
        "colab": {
          "base_uri": "https://localhost:8080/"
        },
        "id": "QbPiicJK3b17",
        "outputId": "911ff3b9-adac-4220-c21b-65564cd232bc"
      },
      "source": [
        "y_pred_1d3 = []\n",
        "y_test_1d3 = list(test_data.classification)\n",
        "scores3 = model3.predict(x_test, verbose=1, batch_size=8000)\n",
        "y_pred_1d3 = [decode_sentiment(score[0], include_neutral=False) for score in scores3]"
      ],
      "execution_count": null,
      "outputs": [
        {
          "output_type": "stream",
          "name": "stdout",
          "text": [
            "2/2 [==============================] - 2s 320ms/step\n"
          ]
        }
      ]
    },
    {
      "cell_type": "code",
      "metadata": {
        "colab": {
          "base_uri": "https://localhost:8080/"
        },
        "id": "lFGM9uWL3pjS",
        "outputId": "6b60e0f2-0200-4f9b-b135-72986cc79eaa"
      },
      "source": [
        "print(classification_report(y_test_1d3, y_pred_1d3))"
      ],
      "execution_count": null,
      "outputs": [
        {
          "output_type": "stream",
          "name": "stdout",
          "text": [
            "              precision    recall  f1-score   support\n",
            "\n",
            "           0       0.57      0.03      0.06      4791\n",
            "           1       0.52      0.98      0.68      5051\n",
            "\n",
            "    accuracy                           0.52      9842\n",
            "   macro avg       0.54      0.50      0.37      9842\n",
            "weighted avg       0.54      0.52      0.38      9842\n",
            "\n"
          ]
        }
      ]
    },
    {
      "cell_type": "code",
      "metadata": {
        "id": "p9O4bl8BFv7g",
        "outputId": "b40c6d39-c538-4189-d56a-ca3aaee1a460",
        "colab": {
          "base_uri": "https://localhost:8080/"
        }
      },
      "source": [
        "![Open In Colab](https://colab.research.google.com/assets/colab-badge.svg)(https://colab.research.google.com/drive/1JeLc4vlCCW6ceQTGUUvevU1CI4pnjJ8h?usp=sharing)"
      ],
      "execution_count": 125,
      "outputs": [
        {
          "output_type": "stream",
          "name": "stdout",
          "text": [
            "/bin/bash: -c: line 0: syntax error near unexpected token `('\n",
            "/bin/bash: -c: line 0: `[Open In Colab](https://colab.research.google.com/assets/colab-badge.svg)(https://colab.research.google.com/drive/1JeLc4vlCCW6ceQTGUUvevU1CI4pnjJ8h?usp=sharing)'\n"
          ]
        }
      ]
    },
    {
      "cell_type": "markdown",
      "metadata": {
        "id": "H_GheF_f6-UA"
      },
      "source": [
        ""
      ]
    }
  ]
}