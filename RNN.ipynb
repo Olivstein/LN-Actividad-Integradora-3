{
  "nbformat": 4,
  "nbformat_minor": 0,
  "metadata": {
    "colab": {
      "name": "RNN",
      "provenance": [],
      "collapsed_sections": [],
      "include_colab_link": true
    },
    "kernelspec": {
      "name": "python3",
      "display_name": "Python 3"
    },
    "language_info": {
      "name": "python"
    }
  },
  "cells": [
    {
      "cell_type": "markdown",
      "metadata": {
        "id": "view-in-github",
        "colab_type": "text"
      },
      "source": [
        "<a href=\"https://colab.research.google.com/github/mnpro98/LN-Actividad-Integradora-3/blob/main/RNN.ipynb\" target=\"_parent\"><img src=\"https://colab.research.google.com/assets/colab-badge.svg\" alt=\"Open In Colab\"/></a>"
      ]
    },
    {
      "cell_type": "markdown",
      "metadata": {
        "id": "r8lSNkpiXRaP"
      },
      "source": [
        "## Extracción de posts por usuario en **Youtube**\n"
      ]
    },
    {
      "cell_type": "code",
      "metadata": {
        "colab": {
          "base_uri": "https://localhost:8080/"
        },
        "id": "uNU8li4RXfAq",
        "outputId": "072675d9-d0c2-461b-ebf8-d94a1fd37904"
      },
      "source": [
        "!pip install selenium"
      ],
      "execution_count": null,
      "outputs": [
        {
          "output_type": "stream",
          "name": "stdout",
          "text": [
            "Collecting selenium\n",
            "  Downloading selenium-4.0.0-py3-none-any.whl (954 kB)\n",
            "\u001b[K     |████████████████████████████████| 954 kB 8.6 MB/s \n",
            "\u001b[?25hCollecting urllib3[secure]~=1.26\n",
            "  Downloading urllib3-1.26.7-py2.py3-none-any.whl (138 kB)\n",
            "\u001b[K     |████████████████████████████████| 138 kB 47.4 MB/s \n",
            "\u001b[?25hCollecting trio-websocket~=0.9\n",
            "  Downloading trio_websocket-0.9.2-py3-none-any.whl (16 kB)\n",
            "Collecting trio~=0.17\n",
            "  Downloading trio-0.19.0-py3-none-any.whl (356 kB)\n",
            "\u001b[K     |████████████████████████████████| 356 kB 46.7 MB/s \n",
            "\u001b[?25hRequirement already satisfied: idna in /usr/local/lib/python3.7/dist-packages (from trio~=0.17->selenium) (2.10)\n",
            "Requirement already satisfied: attrs>=19.2.0 in /usr/local/lib/python3.7/dist-packages (from trio~=0.17->selenium) (21.2.0)\n",
            "Collecting sniffio\n",
            "  Downloading sniffio-1.2.0-py3-none-any.whl (10 kB)\n",
            "Collecting outcome\n",
            "  Downloading outcome-1.1.0-py2.py3-none-any.whl (9.7 kB)\n",
            "Requirement already satisfied: sortedcontainers in /usr/local/lib/python3.7/dist-packages (from trio~=0.17->selenium) (2.4.0)\n",
            "Collecting async-generator>=1.9\n",
            "  Downloading async_generator-1.10-py3-none-any.whl (18 kB)\n",
            "Collecting wsproto>=0.14\n",
            "  Downloading wsproto-1.0.0-py3-none-any.whl (24 kB)\n",
            "Collecting cryptography>=1.3.4\n",
            "  Downloading cryptography-35.0.0-cp36-abi3-manylinux_2_24_x86_64.whl (3.5 MB)\n",
            "\u001b[K     |████████████████████████████████| 3.5 MB 45.5 MB/s \n",
            "\u001b[?25hCollecting pyOpenSSL>=0.14\n",
            "  Downloading pyOpenSSL-21.0.0-py2.py3-none-any.whl (55 kB)\n",
            "\u001b[K     |████████████████████████████████| 55 kB 3.5 MB/s \n",
            "\u001b[?25hRequirement already satisfied: certifi in /usr/local/lib/python3.7/dist-packages (from urllib3[secure]~=1.26->selenium) (2021.5.30)\n",
            "Requirement already satisfied: cffi>=1.12 in /usr/local/lib/python3.7/dist-packages (from cryptography>=1.3.4->urllib3[secure]~=1.26->selenium) (1.14.6)\n",
            "Requirement already satisfied: pycparser in /usr/local/lib/python3.7/dist-packages (from cffi>=1.12->cryptography>=1.3.4->urllib3[secure]~=1.26->selenium) (2.20)\n",
            "Requirement already satisfied: six>=1.5.2 in /usr/local/lib/python3.7/dist-packages (from pyOpenSSL>=0.14->urllib3[secure]~=1.26->selenium) (1.15.0)\n",
            "Collecting h11<1,>=0.9.0\n",
            "  Downloading h11-0.12.0-py3-none-any.whl (54 kB)\n",
            "\u001b[K     |████████████████████████████████| 54 kB 3.3 MB/s \n",
            "\u001b[?25hInstalling collected packages: sniffio, outcome, h11, cryptography, async-generator, wsproto, urllib3, trio, pyOpenSSL, trio-websocket, selenium\n",
            "  Attempting uninstall: urllib3\n",
            "    Found existing installation: urllib3 1.24.3\n",
            "    Uninstalling urllib3-1.24.3:\n",
            "      Successfully uninstalled urllib3-1.24.3\n",
            "\u001b[31mERROR: pip's dependency resolver does not currently take into account all the packages that are installed. This behaviour is the source of the following dependency conflicts.\n",
            "requests 2.23.0 requires urllib3!=1.25.0,!=1.25.1,<1.26,>=1.21.1, but you have urllib3 1.26.7 which is incompatible.\n",
            "datascience 0.10.6 requires folium==0.2.1, but you have folium 0.8.3 which is incompatible.\u001b[0m\n",
            "Successfully installed async-generator-1.10 cryptography-35.0.0 h11-0.12.0 outcome-1.1.0 pyOpenSSL-21.0.0 selenium-4.0.0 sniffio-1.2.0 trio-0.19.0 trio-websocket-0.9.2 urllib3-1.26.7 wsproto-1.0.0\n"
          ]
        }
      ]
    },
    {
      "cell_type": "code",
      "metadata": {
        "colab": {
          "base_uri": "https://localhost:8080/"
        },
        "id": "37eSbTmKYRPv",
        "outputId": "a975f373-f638-4138-c762-02f148453bb8"
      },
      "source": [
        "!apt install chromium-chromedriver\n",
        "!cp /usr/lib/chromium-browser/chromedriver /usr/bin\n",
        "import sys\n",
        "sys.path.insert(0,'/usr/lib/chromium-browser/chromedriver')\n"
      ],
      "execution_count": null,
      "outputs": [
        {
          "output_type": "stream",
          "name": "stdout",
          "text": [
            "Reading package lists... Done\n",
            "Building dependency tree       \n",
            "Reading state information... Done\n",
            "The following package was automatically installed and is no longer required:\n",
            "  libnvidia-common-460\n",
            "Use 'apt autoremove' to remove it.\n",
            "The following additional packages will be installed:\n",
            "  chromium-browser chromium-browser-l10n chromium-codecs-ffmpeg-extra\n",
            "Suggested packages:\n",
            "  webaccounts-chromium-extension unity-chromium-extension\n",
            "The following NEW packages will be installed:\n",
            "  chromium-browser chromium-browser-l10n chromium-chromedriver\n",
            "  chromium-codecs-ffmpeg-extra\n",
            "0 upgraded, 4 newly installed, 0 to remove and 37 not upgraded.\n",
            "Need to get 95.3 MB of archives.\n",
            "After this operation, 323 MB of additional disk space will be used.\n",
            "Get:1 http://archive.ubuntu.com/ubuntu bionic-updates/universe amd64 chromium-codecs-ffmpeg-extra amd64 94.0.4606.81-0ubuntu0.18.04.1 [1,135 kB]\n",
            "Get:2 http://archive.ubuntu.com/ubuntu bionic-updates/universe amd64 chromium-browser amd64 94.0.4606.81-0ubuntu0.18.04.1 [85.0 MB]\n",
            "Get:3 http://archive.ubuntu.com/ubuntu bionic-updates/universe amd64 chromium-browser-l10n all 94.0.4606.81-0ubuntu0.18.04.1 [4,164 kB]\n",
            "Get:4 http://archive.ubuntu.com/ubuntu bionic-updates/universe amd64 chromium-chromedriver amd64 94.0.4606.81-0ubuntu0.18.04.1 [4,963 kB]\n",
            "Fetched 95.3 MB in 6s (16.2 MB/s)\n",
            "Selecting previously unselected package chromium-codecs-ffmpeg-extra.\n",
            "(Reading database ... 155062 files and directories currently installed.)\n",
            "Preparing to unpack .../chromium-codecs-ffmpeg-extra_94.0.4606.81-0ubuntu0.18.04.1_amd64.deb ...\n",
            "Unpacking chromium-codecs-ffmpeg-extra (94.0.4606.81-0ubuntu0.18.04.1) ...\n",
            "Selecting previously unselected package chromium-browser.\n",
            "Preparing to unpack .../chromium-browser_94.0.4606.81-0ubuntu0.18.04.1_amd64.deb ...\n",
            "Unpacking chromium-browser (94.0.4606.81-0ubuntu0.18.04.1) ...\n",
            "Selecting previously unselected package chromium-browser-l10n.\n",
            "Preparing to unpack .../chromium-browser-l10n_94.0.4606.81-0ubuntu0.18.04.1_all.deb ...\n",
            "Unpacking chromium-browser-l10n (94.0.4606.81-0ubuntu0.18.04.1) ...\n",
            "Selecting previously unselected package chromium-chromedriver.\n",
            "Preparing to unpack .../chromium-chromedriver_94.0.4606.81-0ubuntu0.18.04.1_amd64.deb ...\n",
            "Unpacking chromium-chromedriver (94.0.4606.81-0ubuntu0.18.04.1) ...\n",
            "Setting up chromium-codecs-ffmpeg-extra (94.0.4606.81-0ubuntu0.18.04.1) ...\n",
            "Setting up chromium-browser (94.0.4606.81-0ubuntu0.18.04.1) ...\n",
            "update-alternatives: using /usr/bin/chromium-browser to provide /usr/bin/x-www-browser (x-www-browser) in auto mode\n",
            "update-alternatives: using /usr/bin/chromium-browser to provide /usr/bin/gnome-www-browser (gnome-www-browser) in auto mode\n",
            "Setting up chromium-chromedriver (94.0.4606.81-0ubuntu0.18.04.1) ...\n",
            "Setting up chromium-browser-l10n (94.0.4606.81-0ubuntu0.18.04.1) ...\n",
            "Processing triggers for man-db (2.8.3-2ubuntu0.1) ...\n",
            "Processing triggers for hicolor-icon-theme (0.17-2) ...\n",
            "Processing triggers for mime-support (3.60ubuntu1) ...\n",
            "Processing triggers for libc-bin (2.27-3ubuntu1.3) ...\n",
            "/sbin/ldconfig.real: /usr/local/lib/python3.7/dist-packages/ideep4py/lib/libmkldnn.so.0 is not a symbolic link\n",
            "\n",
            "cp: '/usr/lib/chromium-browser/chromedriver' and '/usr/bin/chromedriver' are the same file\n"
          ]
        }
      ]
    },
    {
      "cell_type": "code",
      "metadata": {
        "id": "sOYTA-YdaV_G"
      },
      "source": [
        "import pandas as pd"
      ],
      "execution_count": null,
      "outputs": []
    },
    {
      "cell_type": "code",
      "metadata": {
        "colab": {
          "base_uri": "https://localhost:8080/",
          "height": 398
        },
        "id": "MPzq6obGXV4p",
        "outputId": "aa2b1093-8544-4fa8-ec48-b449c8c930bf"
      },
      "source": [
        "from selenium import webdriver\n",
        "from selenium.webdriver.common.keys import Keys\n",
        "import numpy as np\n",
        "from selenium.common.exceptions import NoSuchElementException \n",
        "from time import sleep\n",
        "import nltk\n",
        "from nltk.corpus import  stopwords\n",
        "from nltk.tokenize import word_tokenize\n",
        "from tensorflow.keras.preprocessing.text import Tokenizer\n",
        "import time\n",
        "import re\n",
        "\n",
        "\n",
        "#Conectando al driver de Chrome via Collab\n",
        "chrome_options = webdriver.ChromeOptions()\n",
        "chrome_options.add_argument('--headless')\n",
        "chrome_options.add_argument('--no-sandbox')\n",
        "chrome_options.add_argument('--disable-dev-shm-usage')\n",
        "driver = webdriver.Chrome('chromedriver',chrome_options=chrome_options)\n",
        "driver.get(\"https://www.webite-url.com\")\n",
        "\n",
        "#En caso de utilizar otro driver, coloca el tuyo.\n",
        "\n",
        "#Navegando con Selenium\n",
        "link = input(\"Ingresa el link del video donde se obtendran los comments:  \")\n",
        "driver.get(link)\n",
        "driver.maximize_window()\n",
        "driver.implicitly_wait(10)\n",
        "time.sleep(5)\n",
        "\n",
        "try:\n",
        "    # Extract the elements storing the video title and\n",
        "    # comment section.\n",
        "    titulo = driver.find_element_by_xpath('//*[@id=\"container\"]/h1/yt-formatted-string').text\n",
        "    com_sec = driver.find_element_by_xpath('//*[@id=\"comments\"]')\n",
        "except exceptions.NoSuchElementException:\n",
        "    #Youtube puede cambiar el HTML para los videos, entonces\n",
        "    #con el except sera en caso de que no encuentra el elemento\n",
        "    error = \"Error \"\n",
        "    error += \"posiblemente el elemento aun no esta en la pantalla\"\n",
        "    print(error)\n",
        "    \n",
        "#Nos scrolleamos al elemento \"comments\"    \n",
        "driver.execute_script(\"arguments[0].scrollIntoView();\", com_sec)\n",
        "time.sleep(7)\n",
        "\n",
        "altura_previa = driver.execute_script(\"return document.documentElement.scrollHeight\")\n",
        "\n",
        "for i in range(10):\n",
        "    driver.execute_script(\"window.scrollTo(0, document.documentElement.scrollHeight);\")\n",
        "    time.sleep(5)\n",
        "    altura_actual= driver.execute_script(\"return document.documentElement.scrollHeight\")\n",
        "    if altura_actual == altura_previa:\n",
        "        break\n",
        "    altura_previa = altura_actual\n",
        "    \n",
        "driver.execute_script(\"window.scrollTo(0, document.documentElement.scrollHeight);\")\n",
        "\n",
        "try:\n",
        "    # Extract the elements storing the usernames and comments.\n",
        "    #user = driver.find_elements_by_xpath('//*[@id=\"author-text\"]')\n",
        "    comment = driver.find_elements_by_xpath('//*[@id=\"content-text\"]')\n",
        "except exceptions.NoSuchElementException:\n",
        "    error = \"Error\"\n",
        "    error += \"posiblemente el elemento aun no esta en la pantalla\"\n",
        "    print(error)\n",
        "\n",
        "print(\"Video \" + titulo + \"\\n\")\n",
        "\n",
        "ytcm_limpios = []\n",
        "for y in comment:\n",
        "    y = ' '.join(re.sub(\"([@#][A-Za-z0-9_]+)|(\\w+:\\/\\/\\S+)\",\" \", y.text).split())\n",
        "    y = re.sub('[?¿·|./°\"_!$%“”♡☭☻\\n*]', '', y)\n",
        "    y = y.replace('En respuesta', '')\n",
        "    y = y.replace('Respondiendo','')\n",
        "    y = re.sub(\"\\d+\", \"\", y)\n",
        "    y =re.sub(r'http\\S+', '', y)\n",
        "    y.strip()\n",
        "    ytcm_limpios.append(y)\n",
        "\n",
        "\n",
        "df_yt = pd.DataFrame({'Youtube': ytcm_limpios})\n",
        "\n",
        "df_yt"
      ],
      "execution_count": null,
      "outputs": [
        {
          "output_type": "error",
          "ename": "ModuleNotFoundError",
          "evalue": "ignored",
          "traceback": [
            "\u001b[0;31m---------------------------------------------------------------------------\u001b[0m",
            "\u001b[0;31mModuleNotFoundError\u001b[0m                       Traceback (most recent call last)",
            "\u001b[0;32m<ipython-input-14-62e3121f990a>\u001b[0m in \u001b[0;36m<module>\u001b[0;34m()\u001b[0m\n\u001b[0;32m----> 1\u001b[0;31m \u001b[0;32mfrom\u001b[0m \u001b[0mselenium\u001b[0m \u001b[0;32mimport\u001b[0m \u001b[0mwebdriver\u001b[0m\u001b[0;34m\u001b[0m\u001b[0;34m\u001b[0m\u001b[0m\n\u001b[0m\u001b[1;32m      2\u001b[0m \u001b[0;32mfrom\u001b[0m \u001b[0mselenium\u001b[0m\u001b[0;34m.\u001b[0m\u001b[0mwebdriver\u001b[0m\u001b[0;34m.\u001b[0m\u001b[0mcommon\u001b[0m\u001b[0;34m.\u001b[0m\u001b[0mkeys\u001b[0m \u001b[0;32mimport\u001b[0m \u001b[0mKeys\u001b[0m\u001b[0;34m\u001b[0m\u001b[0;34m\u001b[0m\u001b[0m\n\u001b[1;32m      3\u001b[0m \u001b[0;32mimport\u001b[0m \u001b[0mnumpy\u001b[0m \u001b[0;32mas\u001b[0m \u001b[0mnp\u001b[0m\u001b[0;34m\u001b[0m\u001b[0;34m\u001b[0m\u001b[0m\n\u001b[1;32m      4\u001b[0m \u001b[0;32mfrom\u001b[0m \u001b[0mselenium\u001b[0m\u001b[0;34m.\u001b[0m\u001b[0mcommon\u001b[0m\u001b[0;34m.\u001b[0m\u001b[0mexceptions\u001b[0m \u001b[0;32mimport\u001b[0m \u001b[0mNoSuchElementException\u001b[0m\u001b[0;34m\u001b[0m\u001b[0;34m\u001b[0m\u001b[0m\n\u001b[1;32m      5\u001b[0m \u001b[0;32mfrom\u001b[0m \u001b[0mtime\u001b[0m \u001b[0;32mimport\u001b[0m \u001b[0msleep\u001b[0m\u001b[0;34m\u001b[0m\u001b[0;34m\u001b[0m\u001b[0m\n",
            "\u001b[0;31mModuleNotFoundError\u001b[0m: No module named 'selenium'",
            "",
            "\u001b[0;31m---------------------------------------------------------------------------\u001b[0;32m\nNOTE: If your import is failing due to a missing package, you can\nmanually install dependencies using either !pip or !apt.\n\nTo view examples of installing some common dependencies, click the\n\"Open Examples\" button below.\n\u001b[0;31m---------------------------------------------------------------------------\u001b[0m\n"
          ],
          "errorDetails": {
            "actions": [
              {
                "action": "open_url",
                "actionText": "Open Examples",
                "url": "/notebooks/snippets/importing_libraries.ipynb"
              }
            ]
          }
        }
      ]
    },
    {
      "cell_type": "markdown",
      "metadata": {
        "id": "V9Sv2qPmWtgg"
      },
      "source": [
        "## Extracción de posts por usuario en **Twitter**\n",
        "\n"
      ]
    },
    {
      "cell_type": "code",
      "metadata": {
        "id": "e6yGjKCQpWM-"
      },
      "source": [
        "from selenium import webdriver\n",
        "from selenium.webdriver.common.keys import Keys\n",
        "import pandas as pd\n",
        "import re\n",
        "import time\n",
        "from getpass import getpass\n",
        "from selenium.common.exceptions import NoSuchElementException \n",
        "from time import sleep\n",
        "import nltk\n",
        "from nltk.corpus import  stopwords\n",
        "from nltk.tokenize import word_tokenize\n",
        "from tensorflow.keras.preprocessing.text import Tokenizer\n",
        "#----------------------------------------------------------------------------\n",
        "#----------------------------------------------------------------------------\n",
        "def tweet_text(tweet):\n",
        "    try:\n",
        "        publicidad = tweet.find_element_by_xpath('.//time').get_attribute('datetime')\n",
        "    except NoSuchElementException:\n",
        "        return\n",
        "    \n",
        "    tw_txt1=tweet.find_element_by_xpath('.//div[2]/div[1]').text\n",
        "    tw_txt2=tweet.find_element_by_xpath('.//div[2]/div[2]').text\n",
        "    tw_text = tw_txt1+tw_txt2\n",
        "    \n",
        "    return tw_text\n",
        "#----------------------------------------------------------------------------\n",
        "#----------------------------------------------------------------------------\n",
        "\n",
        "chrome_options = webdriver.ChromeOptions()\n",
        "chrome_options.add_argument('--headless')\n",
        "chrome_options.add_argument('--no-sandbox')\n",
        "chrome_options.add_argument('--disable-dev-shm-usage')\n",
        "driver = webdriver.Chrome('chromedriver',chrome_options=chrome_options)\n",
        "#En caso de utilizar otro driver, coloca el tuyo.\n",
        "\n",
        "#Navegando con Selenium\n",
        "driver.get(\"https://twitter.com/login\")\n",
        "driver.maximize_window()\n",
        "driver.implicitly_wait(10)\n",
        "\n",
        "#Logging in con tu cuenta de twitter\n",
        "username = input(\"Coloca tu usuario con @ al comienzo\")\n",
        "user = driver.find_element_by_name(\"username\")\n",
        "user.send_keys(username)\n",
        "user.send_keys(Keys.RETURN)\n",
        "\n",
        "username_password = getpass()\n",
        "password = driver.find_element_by_name(\"password\")\n",
        "password.send_keys(username_password)\n",
        "password.send_keys(Keys.RETURN)\n",
        "\n",
        "#Comenzando la busqueda de tweets segun el tema\n",
        "tema_tw = input(\"Ingresa el tema de interes(con @ en caso de un artista/personaje o # para algun trend)\")\n",
        "\n",
        "searchbox = driver.find_element_by_xpath('//input[@aria-label=\"Búsqueda\"]')\n",
        "searchbox.send_keys(tema_tw)\n",
        "searchbox.send_keys(Keys.RETURN)\n",
        "\n",
        "#Exploracion de datos\n",
        "driver.find_element_by_link_text('Destacado').click()\n",
        "\n",
        "lista_tweets = []\n",
        "tw_ids = set()\n",
        "last_position =driver.execute_script(\"return window.pageYOffset;\")\n",
        "scrolling = True\n",
        "\n",
        "\n",
        "for i in range(5):\n",
        "    tw_page = driver.find_elements_by_xpath('//article[@data-testid=\"tweet\"]')\n",
        "    for page in tw_page[-10:]:\n",
        "        tweet  = tweet_text(page)\n",
        "        if tweet:\n",
        "            tw_id = ''.join(tweet)\n",
        "            if tw_id not in tw_ids:\n",
        "                tw_ids.add(tw_id)\n",
        "                lista_tweets.append(tweet)\n",
        "                \n",
        "    scroll_attempt = 0\n",
        "    while True:\n",
        "        driver.execute_script('window.scrollTo(0,document.body.scrollHeight);')\n",
        "        sleep(1)\n",
        "        curr_pos = driver.execute_script(\"return window.pageYOffset;\") \n",
        "        if last_position == curr_pos:\n",
        "            scroll_attempt += 1 \n",
        "            \n",
        "            if scroll_attempt>=3:\n",
        "                scrolling  = False\n",
        "                break\n",
        "            else:\n",
        "                sleep(2)\n",
        "        else:\n",
        "            last_position = curr_pos\n",
        "            break\n",
        "\n",
        "tw_limpios = []\n",
        "for t in lista_tweets:\n",
        "    t = ' '.join(re.sub(\"([@#][A-Za-z0-9_]+)|(\\w+:\\/\\/\\S+)\",\" \", t).split())\n",
        "    t = re.sub('[?¿·|./°\"_!$%“”♡☭☻\\n*]', '', t)\n",
        "    t = t.replace('En respuesta', '')\n",
        "    t = t.replace('Respondiendo','')\n",
        "    t = re.sub(\"\\d+\", \"\", t)\n",
        "    t =re.sub(r'http\\S+', '', t)\n",
        "    t.strip()\n",
        "    tw_limpios.append(t)\n",
        "\n",
        "\n",
        "df_tw = pd.DataFrame({'Tweets': tw_limpios})\n",
        "\n",
        "df_tw"
      ],
      "execution_count": null,
      "outputs": []
    },
    {
      "cell_type": "markdown",
      "metadata": {
        "id": "ANKKLE7UBb86"
      },
      "source": [
        "## Extracción de posts por usuario en **Reddit**\n"
      ]
    },
    {
      "cell_type": "code",
      "metadata": {
        "id": "C0jxSh9M_hxC"
      },
      "source": [
        "#Incluir la funcionalidad de buscar posts en Reddit por usuarios. A las publicaciones recolectadas \n",
        "#de  Reddit  se  les  debe  hacer  un  procesamiento  para  eliminar  hyperlinks,  menciones  a  otros \n",
        "#subreddits (r/smashbros) y menciones a otros usuarios (/Username). (10 puntos) "
      ],
      "execution_count": null,
      "outputs": []
    },
    {
      "cell_type": "code",
      "metadata": {
        "id": "3dyOegiRBHC_"
      },
      "source": [
        "!pip install praw"
      ],
      "execution_count": null,
      "outputs": []
    },
    {
      "cell_type": "code",
      "metadata": {
        "id": "cysaEZOtLz_6"
      },
      "source": [
        "import praw\n",
        "import pandas as pd"
      ],
      "execution_count": null,
      "outputs": []
    },
    {
      "cell_type": "code",
      "metadata": {
        "id": "J3G0zjilL5s9"
      },
      "source": [
        "reddit = praw.Reddit(client_id='uwCf_CFcUWhOm7csIScNgg', client_secret='3T6_L-84WkdlM8CRRR60_rWaU-Ev1w', user_agent='PLNWebScrapping')"
      ],
      "execution_count": null,
      "outputs": []
    },
    {
      "cell_type": "code",
      "metadata": {
        "colab": {
          "base_uri": "https://localhost:8080/"
        },
        "id": "f7aVLSiVL9WG",
        "outputId": "46b6910b-4c6e-4acd-9d80-293fa4c7a416"
      },
      "source": [
        "name=input(\"Inserte el nombre del usuario del cual se extraeran los posts: \")"
      ],
      "execution_count": null,
      "outputs": [
        {
          "name": "stdout",
          "output_type": "stream",
          "text": [
            "Inserte el nombre del usuario del cual se extraeran los posts: NBA_MOD\n"
          ]
        }
      ]
    },
    {
      "cell_type": "code",
      "metadata": {
        "id": "VtWZ9tnSMBjm"
      },
      "source": [
        "obj2= praw.models.Redditor(reddit=reddit,name=name)"
      ],
      "execution_count": null,
      "outputs": []
    },
    {
      "cell_type": "code",
      "metadata": {
        "colab": {
          "base_uri": "https://localhost:8080/",
          "height": 518
        },
        "id": "HqO9Z3MTMECy",
        "outputId": "497aa97a-da19-4ae9-a324-8715569ecf28"
      },
      "source": [
        "total_posts2=[]\n",
        "for submission in obj2.submissions.top(\"all\"):\n",
        "    total_posts2.append(submission.title)\n",
        "postsData2 = pd.DataFrame(total_posts2,columns=['post'])\n",
        "postsData2"
      ],
      "execution_count": null,
      "outputs": [
        {
          "output_type": "stream",
          "name": "stderr",
          "text": [
            "It appears that you are using PRAW in an asynchronous environment.\n",
            "It is strongly recommended to use Async PRAW: https://asyncpraw.readthedocs.io.\n",
            "See https://praw.readthedocs.io/en/latest/getting_started/multiple_instances.html#discord-bots-and-asynchronous-environments for more info.\n",
            "\n"
          ]
        },
        {
          "output_type": "execute_result",
          "data": {
            "text/html": [
              "<div>\n",
              "<style scoped>\n",
              "    .dataframe tbody tr th:only-of-type {\n",
              "        vertical-align: middle;\n",
              "    }\n",
              "\n",
              "    .dataframe tbody tr th {\n",
              "        vertical-align: top;\n",
              "    }\n",
              "\n",
              "    .dataframe thead th {\n",
              "        text-align: right;\n",
              "    }\n",
              "</style>\n",
              "<table border=\"1\" class=\"dataframe\">\n",
              "  <thead>\n",
              "    <tr style=\"text-align: right;\">\n",
              "      <th></th>\n",
              "      <th>post</th>\n",
              "    </tr>\n",
              "  </thead>\n",
              "  <tbody>\n",
              "    <tr>\n",
              "      <th>0</th>\n",
              "      <td>[Post Game Thread] The Los Angeles Lakers (17-...</td>\n",
              "    </tr>\n",
              "    <tr>\n",
              "      <th>1</th>\n",
              "      <td>[Post Game Thread] France delivers another ups...</td>\n",
              "    </tr>\n",
              "    <tr>\n",
              "      <th>2</th>\n",
              "      <td>GAME THREAD: Utah Jazz (40-41) @ Los Angeles L...</td>\n",
              "    </tr>\n",
              "    <tr>\n",
              "      <th>3</th>\n",
              "      <td>[Post Game Thread] Serbia prevails in a much a...</td>\n",
              "    </tr>\n",
              "    <tr>\n",
              "      <th>4</th>\n",
              "      <td>[Post Game Thread] USA survives a scare from T...</td>\n",
              "    </tr>\n",
              "    <tr>\n",
              "      <th>...</th>\n",
              "      <td>...</td>\n",
              "    </tr>\n",
              "    <tr>\n",
              "      <th>95</th>\n",
              "      <td>GAME THREAD: Los Angeles Clippers (47-25) @ Ph...</td>\n",
              "    </tr>\n",
              "    <tr>\n",
              "      <th>96</th>\n",
              "      <td>GAME THREAD: Milwaukee Bucks (46-26) @ Brookly...</td>\n",
              "    </tr>\n",
              "    <tr>\n",
              "      <th>97</th>\n",
              "      <td>GAME THREAD: Atlanta Hawks (41-31) @ Philadelp...</td>\n",
              "    </tr>\n",
              "    <tr>\n",
              "      <th>98</th>\n",
              "      <td>GAME THREAD: Boston Celtics (48-24) @ Miami He...</td>\n",
              "    </tr>\n",
              "    <tr>\n",
              "      <th>99</th>\n",
              "      <td>GAME THREAD: Atlanta Hawks (41-31) @ Milwaukee...</td>\n",
              "    </tr>\n",
              "  </tbody>\n",
              "</table>\n",
              "<p>100 rows × 1 columns</p>\n",
              "</div>"
            ],
            "text/plain": [
              "                                                 post\n",
              "0   [Post Game Thread] The Los Angeles Lakers (17-...\n",
              "1   [Post Game Thread] France delivers another ups...\n",
              "2   GAME THREAD: Utah Jazz (40-41) @ Los Angeles L...\n",
              "3   [Post Game Thread] Serbia prevails in a much a...\n",
              "4   [Post Game Thread] USA survives a scare from T...\n",
              "..                                                ...\n",
              "95  GAME THREAD: Los Angeles Clippers (47-25) @ Ph...\n",
              "96  GAME THREAD: Milwaukee Bucks (46-26) @ Brookly...\n",
              "97  GAME THREAD: Atlanta Hawks (41-31) @ Philadelp...\n",
              "98  GAME THREAD: Boston Celtics (48-24) @ Miami He...\n",
              "99  GAME THREAD: Atlanta Hawks (41-31) @ Milwaukee...\n",
              "\n",
              "[100 rows x 1 columns]"
            ]
          },
          "metadata": {},
          "execution_count": 45
        }
      ]
    },
    {
      "cell_type": "code",
      "metadata": {
        "id": "DDjpSjH5MMoy"
      },
      "source": [
        "#eliminando hyperlinks\n",
        "postsData2['post']= postsData2['post'].str.replace('http\\S+|www.\\S+', '', case=False)\n",
        "#eliminando menciones a otros subreddits(r/smashbros)\n",
        "postsData2['post']= postsData2['post'].str.replace('r/[0-9A-Za-z-_]*', '', case=False)\n",
        "#eliminando menciones a otros usuarios (/Username)\n",
        "postsData2['post']= postsData2['post'].str.replace('[@+/][0-9A-Za-z-_]*', '', case=False)"
      ],
      "execution_count": null,
      "outputs": []
    },
    {
      "cell_type": "code",
      "metadata": {
        "colab": {
          "base_uri": "https://localhost:8080/",
          "height": 424
        },
        "id": "Vk1wZzO7MQG_",
        "outputId": "04ff2d94-879d-4f79-d3b3-ade9b165d62b"
      },
      "source": [
        "postsData2"
      ],
      "execution_count": null,
      "outputs": [
        {
          "output_type": "execute_result",
          "data": {
            "text/html": [
              "<div>\n",
              "<style scoped>\n",
              "    .dataframe tbody tr th:only-of-type {\n",
              "        vertical-align: middle;\n",
              "    }\n",
              "\n",
              "    .dataframe tbody tr th {\n",
              "        vertical-align: top;\n",
              "    }\n",
              "\n",
              "    .dataframe thead th {\n",
              "        text-align: right;\n",
              "    }\n",
              "</style>\n",
              "<table border=\"1\" class=\"dataframe\">\n",
              "  <thead>\n",
              "    <tr style=\"text-align: right;\">\n",
              "      <th></th>\n",
              "      <th>post</th>\n",
              "    </tr>\n",
              "  </thead>\n",
              "  <tbody>\n",
              "    <tr>\n",
              "      <th>0</th>\n",
              "      <td>[Post Game Thread] The Los Angeles Lakers (17-...</td>\n",
              "    </tr>\n",
              "    <tr>\n",
              "      <th>1</th>\n",
              "      <td>[Post Game Thread] France delivers another ups...</td>\n",
              "    </tr>\n",
              "    <tr>\n",
              "      <th>2</th>\n",
              "      <td>GAME THREAD: Utah Jazz (40-41)  Los Angeles La...</td>\n",
              "    </tr>\n",
              "    <tr>\n",
              "      <th>3</th>\n",
              "      <td>[Post Game Thread] Serbia prevails in a much a...</td>\n",
              "    </tr>\n",
              "    <tr>\n",
              "      <th>4</th>\n",
              "      <td>[Post Game Thread] USA survives a scare from T...</td>\n",
              "    </tr>\n",
              "    <tr>\n",
              "      <th>...</th>\n",
              "      <td>...</td>\n",
              "    </tr>\n",
              "    <tr>\n",
              "      <th>95</th>\n",
              "      <td>GAME THREAD: Los Angeles Clippers (47-25)  Pho...</td>\n",
              "    </tr>\n",
              "    <tr>\n",
              "      <th>96</th>\n",
              "      <td>GAME THREAD: Milwaukee Bucks (46-26)  Brooklyn...</td>\n",
              "    </tr>\n",
              "    <tr>\n",
              "      <th>97</th>\n",
              "      <td>GAME THREAD: Atlanta Hawks (41-31)  Philadelph...</td>\n",
              "    </tr>\n",
              "    <tr>\n",
              "      <th>98</th>\n",
              "      <td>GAME THREAD: Boston Celtics (48-24)  Miami Hea...</td>\n",
              "    </tr>\n",
              "    <tr>\n",
              "      <th>99</th>\n",
              "      <td>GAME THREAD: Atlanta Hawks (41-31)  Milwaukee ...</td>\n",
              "    </tr>\n",
              "  </tbody>\n",
              "</table>\n",
              "<p>100 rows × 1 columns</p>\n",
              "</div>"
            ],
            "text/plain": [
              "                                                 post\n",
              "0   [Post Game Thread] The Los Angeles Lakers (17-...\n",
              "1   [Post Game Thread] France delivers another ups...\n",
              "2   GAME THREAD: Utah Jazz (40-41)  Los Angeles La...\n",
              "3   [Post Game Thread] Serbia prevails in a much a...\n",
              "4   [Post Game Thread] USA survives a scare from T...\n",
              "..                                                ...\n",
              "95  GAME THREAD: Los Angeles Clippers (47-25)  Pho...\n",
              "96  GAME THREAD: Milwaukee Bucks (46-26)  Brooklyn...\n",
              "97  GAME THREAD: Atlanta Hawks (41-31)  Philadelph...\n",
              "98  GAME THREAD: Boston Celtics (48-24)  Miami Hea...\n",
              "99  GAME THREAD: Atlanta Hawks (41-31)  Milwaukee ...\n",
              "\n",
              "[100 rows x 1 columns]"
            ]
          },
          "metadata": {},
          "execution_count": 47
        }
      ]
    },
    {
      "cell_type": "markdown",
      "metadata": {
        "id": "mBBDF5fQalVt"
      },
      "source": [
        "## Base de datos redes sociales"
      ]
    },
    {
      "cell_type": "code",
      "metadata": {
        "colab": {
          "base_uri": "https://localhost:8080/",
          "height": 424
        },
        "id": "j377kHbvsS5b",
        "outputId": "122690da-df93-4847-d677-dd972406264f"
      },
      "source": [
        "df_yt= pd.DataFrame({'post':ytcm_limpios})\n",
        "df_yt"
      ],
      "execution_count": null,
      "outputs": [
        {
          "output_type": "execute_result",
          "data": {
            "text/html": [
              "<div>\n",
              "<style scoped>\n",
              "    .dataframe tbody tr th:only-of-type {\n",
              "        vertical-align: middle;\n",
              "    }\n",
              "\n",
              "    .dataframe tbody tr th {\n",
              "        vertical-align: top;\n",
              "    }\n",
              "\n",
              "    .dataframe thead th {\n",
              "        text-align: right;\n",
              "    }\n",
              "</style>\n",
              "<table border=\"1\" class=\"dataframe\">\n",
              "  <thead>\n",
              "    <tr style=\"text-align: right;\">\n",
              "      <th></th>\n",
              "      <th>post</th>\n",
              "    </tr>\n",
              "  </thead>\n",
              "  <tbody>\n",
              "    <tr>\n",
              "      <th>0</th>\n",
              "      <td>Value of this is always an object; value of th...</td>\n",
              "    </tr>\n",
              "    <tr>\n",
              "      <th>1</th>\n",
              "      <td>The concept the less you know the better  appl...</td>\n",
              "    </tr>\n",
              "    <tr>\n",
              "      <th>2</th>\n",
              "      <td>University teachers preparing questions for th...</td>\n",
              "    </tr>\n",
              "    <tr>\n",
              "      <th>3</th>\n",
              "      <td>This is bullcrap No, this is the window object</td>\n",
              "    </tr>\n",
              "    <tr>\n",
              "      <th>4</th>\n",
              "      <td>As someone who primarily writes code in JavaSc...</td>\n",
              "    </tr>\n",
              "    <tr>\n",
              "      <th>...</th>\n",
              "      <td>...</td>\n",
              "    </tr>\n",
              "    <tr>\n",
              "      <th>215</th>\n",
              "      <td>: - whoa What just happened there You typed lt...</td>\n",
              "    </tr>\n",
              "    <tr>\n",
              "      <th>216</th>\n",
              "      <td>I demand to know what keyboard this fine gentl...</td>\n",
              "    </tr>\n",
              "    <tr>\n",
              "      <th>217</th>\n",
              "      <td>wait,,,,I need that theme does anyone know wha...</td>\n",
              "    </tr>\n",
              "    <tr>\n",
              "      <th>218</th>\n",
              "      <td>idek why i'm watching this when I just started...</td>\n",
              "    </tr>\n",
              "    <tr>\n",
              "      <th>219</th>\n",
              "      <td>The only language i didnt want to see when I j...</td>\n",
              "    </tr>\n",
              "  </tbody>\n",
              "</table>\n",
              "<p>220 rows × 1 columns</p>\n",
              "</div>"
            ],
            "text/plain": [
              "                                                  post\n",
              "0    Value of this is always an object; value of th...\n",
              "1    The concept the less you know the better  appl...\n",
              "2    University teachers preparing questions for th...\n",
              "3       This is bullcrap No, this is the window object\n",
              "4    As someone who primarily writes code in JavaSc...\n",
              "..                                                 ...\n",
              "215  : - whoa What just happened there You typed lt...\n",
              "216  I demand to know what keyboard this fine gentl...\n",
              "217  wait,,,,I need that theme does anyone know wha...\n",
              "218  idek why i'm watching this when I just started...\n",
              "219  The only language i didnt want to see when I j...\n",
              "\n",
              "[220 rows x 1 columns]"
            ]
          },
          "metadata": {},
          "execution_count": 51
        }
      ]
    },
    {
      "cell_type": "code",
      "metadata": {
        "id": "sJH4ikJ-ak3H"
      },
      "source": [
        "df_social = pd.concat([df_yt,postsData2])"
      ],
      "execution_count": null,
      "outputs": []
    },
    {
      "cell_type": "code",
      "metadata": {
        "colab": {
          "base_uri": "https://localhost:8080/",
          "height": 424
        },
        "id": "2lGliY2lr_rZ",
        "outputId": "5c702594-b6d7-4868-8a6a-3317abc5a5d7"
      },
      "source": [
        "df_social"
      ],
      "execution_count": null,
      "outputs": [
        {
          "output_type": "execute_result",
          "data": {
            "text/html": [
              "<div>\n",
              "<style scoped>\n",
              "    .dataframe tbody tr th:only-of-type {\n",
              "        vertical-align: middle;\n",
              "    }\n",
              "\n",
              "    .dataframe tbody tr th {\n",
              "        vertical-align: top;\n",
              "    }\n",
              "\n",
              "    .dataframe thead th {\n",
              "        text-align: right;\n",
              "    }\n",
              "</style>\n",
              "<table border=\"1\" class=\"dataframe\">\n",
              "  <thead>\n",
              "    <tr style=\"text-align: right;\">\n",
              "      <th></th>\n",
              "      <th>post</th>\n",
              "    </tr>\n",
              "  </thead>\n",
              "  <tbody>\n",
              "    <tr>\n",
              "      <th>0</th>\n",
              "      <td>Value of this is always an object; value of th...</td>\n",
              "    </tr>\n",
              "    <tr>\n",
              "      <th>1</th>\n",
              "      <td>The concept the less you know the better  appl...</td>\n",
              "    </tr>\n",
              "    <tr>\n",
              "      <th>2</th>\n",
              "      <td>University teachers preparing questions for th...</td>\n",
              "    </tr>\n",
              "    <tr>\n",
              "      <th>3</th>\n",
              "      <td>This is bullcrap No, this is the window object</td>\n",
              "    </tr>\n",
              "    <tr>\n",
              "      <th>4</th>\n",
              "      <td>As someone who primarily writes code in JavaSc...</td>\n",
              "    </tr>\n",
              "    <tr>\n",
              "      <th>...</th>\n",
              "      <td>...</td>\n",
              "    </tr>\n",
              "    <tr>\n",
              "      <th>95</th>\n",
              "      <td>GAME THREAD: Los Angeles Clippers (47-25)  Pho...</td>\n",
              "    </tr>\n",
              "    <tr>\n",
              "      <th>96</th>\n",
              "      <td>GAME THREAD: Milwaukee Bucks (46-26)  Brooklyn...</td>\n",
              "    </tr>\n",
              "    <tr>\n",
              "      <th>97</th>\n",
              "      <td>GAME THREAD: Atlanta Hawks (41-31)  Philadelph...</td>\n",
              "    </tr>\n",
              "    <tr>\n",
              "      <th>98</th>\n",
              "      <td>GAME THREAD: Boston Celtics (48-24)  Miami Hea...</td>\n",
              "    </tr>\n",
              "    <tr>\n",
              "      <th>99</th>\n",
              "      <td>GAME THREAD: Atlanta Hawks (41-31)  Milwaukee ...</td>\n",
              "    </tr>\n",
              "  </tbody>\n",
              "</table>\n",
              "<p>320 rows × 1 columns</p>\n",
              "</div>"
            ],
            "text/plain": [
              "                                                 post\n",
              "0   Value of this is always an object; value of th...\n",
              "1   The concept the less you know the better  appl...\n",
              "2   University teachers preparing questions for th...\n",
              "3      This is bullcrap No, this is the window object\n",
              "4   As someone who primarily writes code in JavaSc...\n",
              "..                                                ...\n",
              "95  GAME THREAD: Los Angeles Clippers (47-25)  Pho...\n",
              "96  GAME THREAD: Milwaukee Bucks (46-26)  Brooklyn...\n",
              "97  GAME THREAD: Atlanta Hawks (41-31)  Philadelph...\n",
              "98  GAME THREAD: Boston Celtics (48-24)  Miami Hea...\n",
              "99  GAME THREAD: Atlanta Hawks (41-31)  Milwaukee ...\n",
              "\n",
              "[320 rows x 1 columns]"
            ]
          },
          "metadata": {},
          "execution_count": 53
        }
      ]
    },
    {
      "cell_type": "markdown",
      "metadata": {
        "id": "hGToauu34uve"
      },
      "source": [
        "## Reconocimiento de Voz"
      ]
    },
    {
      "cell_type": "code",
      "metadata": {
        "id": "C7ceMFo64zju"
      },
      "source": [
        "#Ejemplo obtenido de: https://www.thepythoncode.com/article/using-speech-recognition-to-convert-speech-to-text-python\n",
        "#Para importar libreria es con pip install SpeechRecognition pydub\n",
        "import speech_recognition as sr\n",
        "\n",
        "a = \"audio.wav\"\n",
        "a1 = \"a1.wav\"\n",
        "a2 = \"a2.wav\"\n",
        "a3 = \"a3.wav\"\n",
        "a4 = \"a4.wav\"\n",
        "\n",
        "r = sr.Recognizer()\n",
        "with sr.AudioFile(a4) as source:\n",
        "    # listen for the data (load audio to memory)\n",
        "    audio_data = r.record(source)\n",
        "    # recognize (convert from speech to text)\n",
        "    text = r.recognize_google(audio_data)\n",
        "    print(text)"
      ],
      "execution_count": null,
      "outputs": []
    },
    {
      "cell_type": "markdown",
      "metadata": {
        "id": "Nb8D4cpQMhPd"
      },
      "source": [
        "## Arquitecturas RNN para clasificación de texto(positivo, negativo)"
      ]
    },
    {
      "cell_type": "code",
      "metadata": {
        "id": "NLJWXSDKMyMy"
      },
      "source": [
        "### Tres arquitecturas diferentes de RNN para la clasificación de texto como positivo o negativo. Los tres modelos deben ser integrados al modelo de ensamble original."
      ],
      "execution_count": null,
      "outputs": []
    },
    {
      "cell_type": "code",
      "metadata": {
        "id": "VXp52xR11csp"
      },
      "source": [
        "import numpy as np\n",
        "from nltk.tokenize import word_tokenize\n",
        "from keras.preprocessing.text import Tokenizer\n",
        "from keras.preprocessing.sequence import pad_sequences\n",
        "from keras.layers import Activation, Dense, Dropout, Embedding, Flatten, Conv1D, MaxPooling1D, LSTM, GRU\n",
        "from keras.models import Sequential\n",
        "from sklearn.preprocessing import LabelEncoder\n",
        "from sklearn.model_selection import train_test_split"
      ],
      "execution_count": null,
      "outputs": []
    },
    {
      "cell_type": "code",
      "metadata": {
        "colab": {
          "base_uri": "https://localhost:8080/"
        },
        "id": "VnC-YL7RVhU6",
        "outputId": "2bc5d1b4-c526-4797-fcb1-b41c6a6b798a"
      },
      "source": [
        "! wget nlp.stanford.edu/data/glove.6B.zip\n",
        "! unzip glove.6B.zip"
      ],
      "execution_count": null,
      "outputs": [
        {
          "output_type": "stream",
          "name": "stdout",
          "text": [
            "--2021-10-31 19:23:11--  http://nlp.stanford.edu/data/glove.6B.zip\n",
            "Resolving nlp.stanford.edu (nlp.stanford.edu)... 171.64.67.140\n",
            "Connecting to nlp.stanford.edu (nlp.stanford.edu)|171.64.67.140|:80... connected.\n",
            "HTTP request sent, awaiting response... 302 Found\n",
            "Location: https://nlp.stanford.edu/data/glove.6B.zip [following]\n",
            "--2021-10-31 19:23:11--  https://nlp.stanford.edu/data/glove.6B.zip\n",
            "Connecting to nlp.stanford.edu (nlp.stanford.edu)|171.64.67.140|:443... connected.\n",
            "HTTP request sent, awaiting response... 301 Moved Permanently\n",
            "Location: http://downloads.cs.stanford.edu/nlp/data/glove.6B.zip [following]\n",
            "--2021-10-31 19:23:12--  http://downloads.cs.stanford.edu/nlp/data/glove.6B.zip\n",
            "Resolving downloads.cs.stanford.edu (downloads.cs.stanford.edu)... 171.64.64.22\n",
            "Connecting to downloads.cs.stanford.edu (downloads.cs.stanford.edu)|171.64.64.22|:80... connected.\n",
            "HTTP request sent, awaiting response... 200 OK\n",
            "Length: 862182613 (822M) [application/zip]\n",
            "Saving to: ‘glove.6B.zip’\n",
            "\n",
            "glove.6B.zip        100%[===================>] 822.24M  4.17MB/s    in 2m 47s  \n",
            "\n",
            "2021-10-31 19:26:01 (4.91 MB/s) - ‘glove.6B.zip’ saved [862182613/862182613]\n",
            "\n",
            "Archive:  glove.6B.zip\n",
            "  inflating: glove.6B.50d.txt        \n",
            "  inflating: glove.6B.100d.txt       \n",
            "  inflating: glove.6B.200d.txt       \n",
            "  inflating: glove.6B.300d.txt       \n"
          ]
        }
      ]
    },
    {
      "cell_type": "code",
      "metadata": {
        "id": "7ITtEJvO-xLl"
      },
      "source": [
        "# Initialize dictionary to be converted to dataframe\n",
        "data_dic = {\n",
        "      'text': [],\n",
        "      'classification': [],\n",
        "}"
      ],
      "execution_count": null,
      "outputs": []
    },
    {
      "cell_type": "code",
      "metadata": {
        "id": "fKpfnXRq5OqK"
      },
      "source": [
        "def fill_dic(file_name, classification):\n",
        "  with open(file_name, encoding='latin-1') as f:\n",
        "    lines = f.readlines()\n",
        "    for line in lines:\n",
        "      data_dic['text'].append(line)\n",
        "      data_dic['classification'].append(classification)"
      ],
      "execution_count": null,
      "outputs": []
    },
    {
      "cell_type": "code",
      "metadata": {
        "id": "jnmHeORa_PGg"
      },
      "source": [
        "fill_dic('test_neg.txt', 0)\n",
        "fill_dic('train_neg.txt', 0)\n",
        "fill_dic('test_pos.txt', 1)\n",
        "fill_dic('train_pos.txt', 1)"
      ],
      "execution_count": null,
      "outputs": []
    },
    {
      "cell_type": "code",
      "metadata": {
        "colab": {
          "base_uri": "https://localhost:8080/",
          "height": 423
        },
        "id": "_diOTm4LAh05",
        "outputId": "01601671-2cf3-4eba-a377-9cb436b1ea2c"
      },
      "source": [
        "reviews_df = pd.DataFrame(data=data_dic)\n",
        "reviews_df"
      ],
      "execution_count": null,
      "outputs": [
        {
          "output_type": "execute_result",
          "data": {
            "text/html": [
              "<div>\n",
              "<style scoped>\n",
              "    .dataframe tbody tr th:only-of-type {\n",
              "        vertical-align: middle;\n",
              "    }\n",
              "\n",
              "    .dataframe tbody tr th {\n",
              "        vertical-align: top;\n",
              "    }\n",
              "\n",
              "    .dataframe thead th {\n",
              "        text-align: right;\n",
              "    }\n",
              "</style>\n",
              "<table border=\"1\" class=\"dataframe\">\n",
              "  <thead>\n",
              "    <tr style=\"text-align: right;\">\n",
              "      <th></th>\n",
              "      <th>text</th>\n",
              "      <th>classification</th>\n",
              "    </tr>\n",
              "  </thead>\n",
              "  <tbody>\n",
              "    <tr>\n",
              "      <th>0</th>\n",
              "      <td>Once again Mr. Costner has dragged out a movie...</td>\n",
              "      <td>0</td>\n",
              "    </tr>\n",
              "    <tr>\n",
              "      <th>1</th>\n",
              "      <td>This is an example of why the majority of acti...</td>\n",
              "      <td>0</td>\n",
              "    </tr>\n",
              "    <tr>\n",
              "      <th>2</th>\n",
              "      <td>First of all I hate those moronic rappers, who...</td>\n",
              "      <td>0</td>\n",
              "    </tr>\n",
              "    <tr>\n",
              "      <th>3</th>\n",
              "      <td>Not even the Beatles could write songs everyon...</td>\n",
              "      <td>0</td>\n",
              "    </tr>\n",
              "    <tr>\n",
              "      <th>4</th>\n",
              "      <td>Brass pictures (movies is not a fitting word f...</td>\n",
              "      <td>0</td>\n",
              "    </tr>\n",
              "    <tr>\n",
              "      <th>...</th>\n",
              "      <td>...</td>\n",
              "      <td>...</td>\n",
              "    </tr>\n",
              "    <tr>\n",
              "      <th>49201</th>\n",
              "      <td>Seeing as the vote average was pretty low, and...</td>\n",
              "      <td>1</td>\n",
              "    </tr>\n",
              "    <tr>\n",
              "      <th>49202</th>\n",
              "      <td>The plot had some wretched, unbelievable twist...</td>\n",
              "      <td>1</td>\n",
              "    </tr>\n",
              "    <tr>\n",
              "      <th>49203</th>\n",
              "      <td>I am amazed at how this movie(and most others ...</td>\n",
              "      <td>1</td>\n",
              "    </tr>\n",
              "    <tr>\n",
              "      <th>49204</th>\n",
              "      <td>A Christmas Together actually came before my t...</td>\n",
              "      <td>1</td>\n",
              "    </tr>\n",
              "    <tr>\n",
              "      <th>49205</th>\n",
              "      <td>Working-class romantic drama from director Mar...</td>\n",
              "      <td>1</td>\n",
              "    </tr>\n",
              "  </tbody>\n",
              "</table>\n",
              "<p>49206 rows × 2 columns</p>\n",
              "</div>"
            ],
            "text/plain": [
              "                                                    text  classification\n",
              "0      Once again Mr. Costner has dragged out a movie...               0\n",
              "1      This is an example of why the majority of acti...               0\n",
              "2      First of all I hate those moronic rappers, who...               0\n",
              "3      Not even the Beatles could write songs everyon...               0\n",
              "4      Brass pictures (movies is not a fitting word f...               0\n",
              "...                                                  ...             ...\n",
              "49201  Seeing as the vote average was pretty low, and...               1\n",
              "49202  The plot had some wretched, unbelievable twist...               1\n",
              "49203  I am amazed at how this movie(and most others ...               1\n",
              "49204  A Christmas Together actually came before my t...               1\n",
              "49205  Working-class romantic drama from director Mar...               1\n",
              "\n",
              "[49206 rows x 2 columns]"
            ]
          },
          "metadata": {},
          "execution_count": 5
        }
      ]
    },
    {
      "cell_type": "code",
      "metadata": {
        "id": "cg2yElVDGLfa"
      },
      "source": [
        "def clean_df(df):\n",
        "  unwanted_ss = ['<br />', 'http\\S+|www.\\S+']\n",
        "  stopwords = [\"i\", \"I\", \"me\", \"my\", \"myself\", \"we\", \"our\", \"ours\", \"ourselves\", \"you\", \"your\", \"yours\", \"yourself\", \"yourselves\", \"he\", \"him\", \"his\", \"himself\", \"she\", \"her\", \"hers\", \"herself\", \"it\", \"its\", \"itself\", \"they\", \"them\", \"their\", \"theirs\", \"themselves\", \"what\", \"which\", \"who\", \"whom\", \"this\", \"that\", \"these\", \"those\", \"am\", \"is\", \"are\", \"was\", \"were\", \"be\", \"been\", \"being\", \"have\", \"has\", \"had\", \"having\", \"do\", \"does\", \"did\", \"doing\", \"a\", \"an\", \"the\", \"and\", \"but\", \"if\", \"or\", \"because\", \"as\", \"until\", \"while\", \"of\", \"at\", \"by\", \"for\", \"with\", \"about\", \"against\", \"between\", \"into\", \"through\", \"during\", \"before\", \"after\", \"above\", \"below\", \"to\", \"from\", \"up\", \"down\", \"in\", \"out\", \"on\", \"off\", \"over\", \"under\", \"again\", \"further\", \"then\", \"once\", \"here\", \"there\", \"when\", \"where\", \"why\", \"how\", \"all\", \"any\", \"both\", \"each\", \"few\", \"more\", \"most\", \"other\", \"some\", \"such\", \"only\", \"own\", \"same\", \"so\", \"than\", \"too\", \"very\", \"s\", \"can\", \"will\", \"just\", \"should\", \"now\"]\n",
        "  joined = unwanted_ss + stopwords\n",
        "  df['text'] = df['text'].apply(lambda x: ' '.join([word for word in x.split() if word not in (joined)]))\n",
        "  return df"
      ],
      "execution_count": null,
      "outputs": []
    },
    {
      "cell_type": "code",
      "metadata": {
        "colab": {
          "base_uri": "https://localhost:8080/",
          "height": 423
        },
        "id": "_RXJiyg3IcTu",
        "outputId": "da4db38e-e756-4d44-e9f4-7173e8b551aa"
      },
      "source": [
        "reviews_df_clean = clean_df(reviews_df)\n",
        "reviews_df_clean"
      ],
      "execution_count": null,
      "outputs": [
        {
          "output_type": "execute_result",
          "data": {
            "text/html": [
              "<div>\n",
              "<style scoped>\n",
              "    .dataframe tbody tr th:only-of-type {\n",
              "        vertical-align: middle;\n",
              "    }\n",
              "\n",
              "    .dataframe tbody tr th {\n",
              "        vertical-align: top;\n",
              "    }\n",
              "\n",
              "    .dataframe thead th {\n",
              "        text-align: right;\n",
              "    }\n",
              "</style>\n",
              "<table border=\"1\" class=\"dataframe\">\n",
              "  <thead>\n",
              "    <tr style=\"text-align: right;\">\n",
              "      <th></th>\n",
              "      <th>text</th>\n",
              "      <th>classification</th>\n",
              "    </tr>\n",
              "  </thead>\n",
              "  <tbody>\n",
              "    <tr>\n",
              "      <th>0</th>\n",
              "      <td>Once Mr. Costner dragged movie far longer nece...</td>\n",
              "      <td>0</td>\n",
              "    </tr>\n",
              "    <tr>\n",
              "      <th>1</th>\n",
              "      <td>This example majority action films same. Gener...</td>\n",
              "      <td>0</td>\n",
              "    </tr>\n",
              "    <tr>\n",
              "      <th>2</th>\n",
              "      <td>First hate moronic rappers, could'nt act gun p...</td>\n",
              "      <td>0</td>\n",
              "    </tr>\n",
              "    <tr>\n",
              "      <th>3</th>\n",
              "      <td>Not even Beatles could write songs everyone li...</td>\n",
              "      <td>0</td>\n",
              "    </tr>\n",
              "    <tr>\n",
              "      <th>4</th>\n",
              "      <td>Brass pictures (movies not fitting word them) ...</td>\n",
              "      <td>0</td>\n",
              "    </tr>\n",
              "    <tr>\n",
              "      <th>...</th>\n",
              "      <td>...</td>\n",
              "      <td>...</td>\n",
              "    </tr>\n",
              "    <tr>\n",
              "      <th>49201</th>\n",
              "      <td>Seeing vote average pretty low, fact clerk vid...</td>\n",
              "      <td>1</td>\n",
              "    </tr>\n",
              "    <tr>\n",
              "      <th>49202</th>\n",
              "      <td>The plot wretched, unbelievable twists. Howeve...</td>\n",
              "      <td>1</td>\n",
              "    </tr>\n",
              "    <tr>\n",
              "      <th>49203</th>\n",
              "      <td>amazed movie(and others average 5 stars lower ...</td>\n",
              "      <td>1</td>\n",
              "    </tr>\n",
              "    <tr>\n",
              "      <th>49204</th>\n",
              "      <td>A Christmas Together actually came time, I've ...</td>\n",
              "      <td>1</td>\n",
              "    </tr>\n",
              "    <tr>\n",
              "      <th>49205</th>\n",
              "      <td>Working-class romantic drama director Martin R...</td>\n",
              "      <td>1</td>\n",
              "    </tr>\n",
              "  </tbody>\n",
              "</table>\n",
              "<p>49206 rows × 2 columns</p>\n",
              "</div>"
            ],
            "text/plain": [
              "                                                    text  classification\n",
              "0      Once Mr. Costner dragged movie far longer nece...               0\n",
              "1      This example majority action films same. Gener...               0\n",
              "2      First hate moronic rappers, could'nt act gun p...               0\n",
              "3      Not even Beatles could write songs everyone li...               0\n",
              "4      Brass pictures (movies not fitting word them) ...               0\n",
              "...                                                  ...             ...\n",
              "49201  Seeing vote average pretty low, fact clerk vid...               1\n",
              "49202  The plot wretched, unbelievable twists. Howeve...               1\n",
              "49203  amazed movie(and others average 5 stars lower ...               1\n",
              "49204  A Christmas Together actually came time, I've ...               1\n",
              "49205  Working-class romantic drama director Martin R...               1\n",
              "\n",
              "[49206 rows x 2 columns]"
            ]
          },
          "metadata": {},
          "execution_count": 7
        }
      ]
    },
    {
      "cell_type": "code",
      "metadata": {
        "colab": {
          "base_uri": "https://localhost:8080/"
        },
        "id": "4I28rMGhKU0E",
        "outputId": "3d50f5a3-8b1e-44a0-8a7e-3596198aaba0"
      },
      "source": [
        "tokenizer = Tokenizer()\n",
        "tokenizer.fit_on_texts(reviews_df_clean['text'])\n",
        "tokenizer.texts_to_sequences(reviews_df_clean['text'])\n",
        "pad_sequences(tokenizer.texts_to_sequences(reviews_df_clean['text']))"
      ],
      "execution_count": null,
      "outputs": [
        {
          "output_type": "execute_result",
          "data": {
            "text/plain": [
              "array([[    0,     0,     0, ...,  1609,   475,    30],\n",
              "       [    0,     0,     0, ...,   105,   396,    82],\n",
              "       [    0,     0,     0, ...,    72,    77,   100],\n",
              "       ...,\n",
              "       [    0,     0,     0, ...,  1088,   133, 10237],\n",
              "       [    0,     0,     0, ...,  8737,  3830,    20],\n",
              "       [    0,     0,     0, ...,    16,  2423,    34]], dtype=int32)"
            ]
          },
          "metadata": {},
          "execution_count": 8
        }
      ]
    },
    {
      "cell_type": "code",
      "metadata": {
        "colab": {
          "base_uri": "https://localhost:8080/"
        },
        "id": "GNsw9fODUyVh",
        "outputId": "b0791a64-c7a4-433d-d04a-b3f98aa10077"
      },
      "source": [
        "print(len(tokenizer.word_index))"
      ],
      "execution_count": null,
      "outputs": [
        {
          "output_type": "stream",
          "name": "stdout",
          "text": [
            "118791\n"
          ]
        }
      ]
    },
    {
      "cell_type": "code",
      "metadata": {
        "colab": {
          "base_uri": "https://localhost:8080/"
        },
        "id": "ZdkEyzucVAqd",
        "outputId": "8ef32d4a-b01d-4e24-c67c-cea453752321"
      },
      "source": [
        "embedding_matrix = np.zeros((len(tokenizer.word_index) + 1, 300))\n",
        "embedding_matrix"
      ],
      "execution_count": null,
      "outputs": [
        {
          "output_type": "execute_result",
          "data": {
            "text/plain": [
              "array([[0., 0., 0., ..., 0., 0., 0.],\n",
              "       [0., 0., 0., ..., 0., 0., 0.],\n",
              "       [0., 0., 0., ..., 0., 0., 0.],\n",
              "       ...,\n",
              "       [0., 0., 0., ..., 0., 0., 0.],\n",
              "       [0., 0., 0., ..., 0., 0., 0.],\n",
              "       [0., 0., 0., ..., 0., 0., 0.]])"
            ]
          },
          "metadata": {},
          "execution_count": 10
        }
      ]
    },
    {
      "cell_type": "code",
      "metadata": {
        "id": "ZInfqV4B0u-n"
      },
      "source": [
        "embeddings_index = {}\n",
        "f = open('glove.6B.300d.txt')\n",
        "\n",
        "for line in f:\n",
        "  values = line.split()\n",
        "  word = values[0]\n",
        "  floats = np.asarray(values[1:], dtype='float32')\n",
        "  embeddings_index[word] = floats\n",
        "f.close()"
      ],
      "execution_count": null,
      "outputs": []
    },
    {
      "cell_type": "code",
      "metadata": {
        "colab": {
          "base_uri": "https://localhost:8080/"
        },
        "id": "naLUcFoz19I_",
        "outputId": "3f86ee7f-9cb3-4877-baf9-d6d8e2fbff79"
      },
      "source": [
        "for word, i in tokenizer.word_index.items():\n",
        "  embedding_vector = embeddings_index.get(word)\n",
        "  if embedding_vector is not None:\n",
        "    embedding_matrix[i] = embedding_vector\n",
        "embedding_matrix"
      ],
      "execution_count": null,
      "outputs": [
        {
          "output_type": "execute_result",
          "data": {
            "text/plain": [
              "array([[ 0.        ,  0.        ,  0.        , ...,  0.        ,\n",
              "         0.        ,  0.        ],\n",
              "       [ 0.40287   , -0.48699   ,  0.091598  , ..., -0.66092002,\n",
              "         0.54541999,  0.28307   ],\n",
              "       [ 0.04656   ,  0.21318001, -0.0074364 , ...,  0.0090611 ,\n",
              "        -0.20988999,  0.053913  ],\n",
              "       ...,\n",
              "       [ 0.        ,  0.        ,  0.        , ...,  0.        ,\n",
              "         0.        ,  0.        ],\n",
              "       [ 0.        ,  0.        ,  0.        , ...,  0.        ,\n",
              "         0.        ,  0.        ],\n",
              "       [ 0.        ,  0.        ,  0.        , ...,  0.        ,\n",
              "         0.        ,  0.        ]])"
            ]
          },
          "metadata": {},
          "execution_count": 13
        }
      ]
    },
    {
      "cell_type": "code",
      "metadata": {
        "id": "cXhZV5km2L-j"
      },
      "source": [
        "embedding_layer = Embedding(len(tokenizer.word_index) + 1, 300, weights=[embedding_matrix], input_length=300, trainable=False)"
      ],
      "execution_count": null,
      "outputs": []
    },
    {
      "cell_type": "markdown",
      "metadata": {
        "id": "io7SrF2rkAEI"
      },
      "source": [
        "## Architecture 1"
      ]
    },
    {
      "cell_type": "code",
      "metadata": {
        "colab": {
          "base_uri": "https://localhost:8080/"
        },
        "id": "OXgiaM8q2dcf",
        "outputId": "dc3b4abe-e8c9-4084-f09a-6e58901c6989"
      },
      "source": [
        "model = Sequential()\n",
        "model.add(embedding_layer)\n",
        "model.add(Dropout(0.5))\n",
        "model.add(LSTM(100, dropout=0.2, recurrent_dropout=0.2))\n",
        "model.add(Dense(1, activation='sigmoid'))\n",
        "model.summary()"
      ],
      "execution_count": null,
      "outputs": [
        {
          "output_type": "stream",
          "name": "stdout",
          "text": [
            "Model: \"sequential_1\"\n",
            "_________________________________________________________________\n",
            "Layer (type)                 Output Shape              Param #   \n",
            "=================================================================\n",
            "embedding (Embedding)        (None, 300, 300)          35637600  \n",
            "_________________________________________________________________\n",
            "dropout_1 (Dropout)          (None, 300, 300)          0         \n",
            "_________________________________________________________________\n",
            "lstm_1 (LSTM)                (None, 100)               160400    \n",
            "_________________________________________________________________\n",
            "dense_1 (Dense)              (None, 1)                 101       \n",
            "=================================================================\n",
            "Total params: 35,798,101\n",
            "Trainable params: 160,501\n",
            "Non-trainable params: 35,637,600\n",
            "_________________________________________________________________\n"
          ]
        }
      ]
    },
    {
      "cell_type": "code",
      "metadata": {
        "id": "VwAqk7bP2ki3"
      },
      "source": [
        "model.compile(loss='binary_crossentropy',\n",
        "              optimizer=\"adam\",\n",
        "              metrics=['accuracy'])"
      ],
      "execution_count": null,
      "outputs": []
    },
    {
      "cell_type": "code",
      "metadata": {
        "id": "jVDZqS-J3o7d"
      },
      "source": [
        "#from sklearn.model_selection import train_test_split"
      ],
      "execution_count": null,
      "outputs": []
    },
    {
      "cell_type": "code",
      "metadata": {
        "id": "lhXKCdST2vp9"
      },
      "source": [
        "train_data, test_data = train_test_split(reviews_df_clean, test_size=0.2, \n",
        "                                         random_state=7)"
      ],
      "execution_count": null,
      "outputs": []
    },
    {
      "cell_type": "code",
      "metadata": {
        "colab": {
          "base_uri": "https://localhost:8080/"
        },
        "id": "cvFuk3E83zni",
        "outputId": "2c46107c-fc67-4128-9aac-93665186dacd"
      },
      "source": [
        "encoder = LabelEncoder()\n",
        "encoder.fit(train_data.classification.tolist())\n",
        "\n",
        "y_train = encoder.transform(train_data.classification.tolist())\n",
        "y_test = encoder.transform(test_data.classification.tolist())\n",
        "\n",
        "y_train = y_train.reshape(-1,1)\n",
        "y_test = y_test.reshape(-1,1)\n",
        "\n",
        "print(\"y_train\",y_train.shape)\n",
        "print(\"y_test\",y_test.shape)"
      ],
      "execution_count": null,
      "outputs": [
        {
          "output_type": "stream",
          "name": "stdout",
          "text": [
            "y_train (39364, 1)\n",
            "y_test (9842, 1)\n"
          ]
        }
      ]
    },
    {
      "cell_type": "code",
      "metadata": {
        "id": "VeTWvCpg5C0Z"
      },
      "source": [
        "x_train = pad_sequences(tokenizer.texts_to_sequences(train_data.text), maxlen=300)\n",
        "x_test = pad_sequences(tokenizer.texts_to_sequences(test_data.text), maxlen=300)"
      ],
      "execution_count": null,
      "outputs": []
    },
    {
      "cell_type": "code",
      "metadata": {
        "colab": {
          "base_uri": "https://localhost:8080/"
        },
        "id": "gDJahFET5bK_",
        "outputId": "7c311a23-1a9a-4c07-b021-0c0b114bfd80"
      },
      "source": [
        "history = model.fit(x_train, y_train,\n",
        "                    batch_size=128,\n",
        "                    epochs=10,\n",
        "                    validation_split=0.2)"
      ],
      "execution_count": null,
      "outputs": [
        {
          "output_type": "stream",
          "name": "stdout",
          "text": [
            "Epoch 1/10\n",
            "247/247 [==============================] - 536s 2s/step - loss: 0.4931 - accuracy: 0.7598 - val_loss: 0.4917 - val_accuracy: 0.8194\n",
            "Epoch 2/10\n",
            "247/247 [==============================] - 533s 2s/step - loss: 0.4178 - accuracy: 0.8114 - val_loss: 0.3742 - val_accuracy: 0.8548\n",
            "Epoch 3/10\n",
            "247/247 [==============================] - 534s 2s/step - loss: 0.3680 - accuracy: 0.8386 - val_loss: 0.3627 - val_accuracy: 0.8618\n",
            "Epoch 4/10\n",
            "247/247 [==============================] - 532s 2s/step - loss: 0.3344 - accuracy: 0.8541 - val_loss: 0.3096 - val_accuracy: 0.8753\n",
            "Epoch 5/10\n",
            "247/247 [==============================] - 532s 2s/step - loss: 0.3169 - accuracy: 0.8645 - val_loss: 0.2929 - val_accuracy: 0.8806\n",
            "Epoch 6/10\n",
            "247/247 [==============================] - 532s 2s/step - loss: 0.2985 - accuracy: 0.8731 - val_loss: 0.3113 - val_accuracy: 0.8791\n",
            "Epoch 7/10\n",
            "247/247 [==============================] - 535s 2s/step - loss: 0.2848 - accuracy: 0.8792 - val_loss: 0.2870 - val_accuracy: 0.8868\n",
            "Epoch 8/10\n",
            "247/247 [==============================] - 536s 2s/step - loss: 0.2767 - accuracy: 0.8838 - val_loss: 0.2746 - val_accuracy: 0.8938\n",
            "Epoch 9/10\n",
            "247/247 [==============================] - 535s 2s/step - loss: 0.2705 - accuracy: 0.8859 - val_loss: 0.2690 - val_accuracy: 0.8934\n",
            "Epoch 10/10\n",
            "247/247 [==============================] - 535s 2s/step - loss: 0.2604 - accuracy: 0.8920 - val_loss: 0.2871 - val_accuracy: 0.8939\n"
          ]
        }
      ]
    },
    {
      "cell_type": "code",
      "metadata": {
        "colab": {
          "base_uri": "https://localhost:8080/"
        },
        "id": "RYsbPXNuBqld",
        "outputId": "c137651e-fee2-4ff4-b9ba-be5ef0eddf6e"
      },
      "source": [
        "score = model.evaluate(x_test, y_test, batch_size=128)\n",
        "print()\n",
        "print(\"ACCURACY:\",score[1])\n",
        "print(\"LOSS:\",score[0])"
      ],
      "execution_count": null,
      "outputs": [
        {
          "output_type": "stream",
          "name": "stdout",
          "text": [
            "77/77 [==============================] - 30s 396ms/step - loss: 0.2871 - accuracy: 0.8899\n",
            "\n",
            "ACCURACY: 0.8898597955703735\n",
            "LOSS: 0.2870611548423767\n"
          ]
        }
      ]
    },
    {
      "cell_type": "code",
      "metadata": {
        "id": "_KAH0t5Aaom5"
      },
      "source": [
        "def decode_sentiment(score, include_neutral=True):\n",
        "    if include_neutral:        \n",
        "        label = \"NEUTRAL\"\n",
        "        if score <= 0.4:\n",
        "            label = \"NEGATIVE\"\n",
        "        elif score >= 0.7:\n",
        "            label = \"POSITIVE\"\n",
        "\n",
        "        return label\n",
        "    else:\n",
        "        return 0 if score < 0.5 else 1"
      ],
      "execution_count": null,
      "outputs": []
    },
    {
      "cell_type": "code",
      "metadata": {
        "id": "CodkqkvNenh9"
      },
      "source": [
        "import time"
      ],
      "execution_count": null,
      "outputs": []
    },
    {
      "cell_type": "code",
      "metadata": {
        "id": "LVwdMW8_eGZK"
      },
      "source": [
        "def predict(text, include_neutral=True):\n",
        "    start_at = time.time()\n",
        "    # Tokenize text\n",
        "    x_test = pad_sequences(tokenizer.texts_to_sequences([text]), maxlen=300)\n",
        "    # Predict\n",
        "    score = model.predict([x_test])[0]\n",
        "    # Decode sentiment\n",
        "    label = decode_sentiment(score, include_neutral=include_neutral)\n",
        "\n",
        "    return {\"label\": label, \"score\": float(score),\n",
        "       \"elapsed_time\": time.time()-start_at}"
      ],
      "execution_count": null,
      "outputs": []
    },
    {
      "cell_type": "code",
      "metadata": {
        "colab": {
          "base_uri": "https://localhost:8080/"
        },
        "id": "iWBvFNa-eeT2",
        "outputId": "b3eb5bbc-94ed-429a-e75a-5db461ec18c7"
      },
      "source": [
        "predict(\"I hated this movie, it's awful. I almost threw up.\")"
      ],
      "execution_count": null,
      "outputs": [
        {
          "output_type": "execute_result",
          "data": {
            "text/plain": [
              "{'elapsed_time': 0.09603333473205566,\n",
              " 'label': 'NEGATIVE',\n",
              " 'score': 0.07438838481903076}"
            ]
          },
          "metadata": {},
          "execution_count": 44
        }
      ]
    },
    {
      "cell_type": "code",
      "metadata": {
        "colab": {
          "base_uri": "https://localhost:8080/"
        },
        "id": "RYNlm0Y6e22-",
        "outputId": "e6384c6f-773b-4a7e-e396-a8d71e4b5706"
      },
      "source": [
        "predict(\"That was awesome! I would definitely watch it again.\")"
      ],
      "execution_count": null,
      "outputs": [
        {
          "output_type": "execute_result",
          "data": {
            "text/plain": [
              "{'elapsed_time': 0.09218192100524902,\n",
              " 'label': 'POSITIVE',\n",
              " 'score': 0.90274977684021}"
            ]
          },
          "metadata": {},
          "execution_count": 45
        }
      ]
    },
    {
      "cell_type": "code",
      "metadata": {
        "colab": {
          "base_uri": "https://localhost:8080/"
        },
        "id": "jVLdHu2efAn2",
        "outputId": "c148a2c7-e602-4eed-b750-0c9f5f7bce0d"
      },
      "source": [
        "predict(\"Honestly, it was an okay movie. I liked some parts and disliked others.\")"
      ],
      "execution_count": null,
      "outputs": [
        {
          "output_type": "execute_result",
          "data": {
            "text/plain": [
              "{'elapsed_time': 0.09893321990966797,\n",
              " 'label': 'NEUTRAL',\n",
              " 'score': 0.5404224991798401}"
            ]
          },
          "metadata": {},
          "execution_count": 46
        }
      ]
    },
    {
      "cell_type": "code",
      "metadata": {
        "colab": {
          "base_uri": "https://localhost:8080/"
        },
        "id": "MNxLTwuHfh0g",
        "outputId": "4e8b0fbd-5f23-475e-f8c3-58daf384878c"
      },
      "source": [
        "y_pred_1d = []\n",
        "y_test_1d = list(test_data.classification)\n",
        "scores = model.predict(x_test, verbose=1, batch_size=8000)\n",
        "y_pred_1d = [decode_sentiment(score, include_neutral=False) for score in scores]"
      ],
      "execution_count": null,
      "outputs": [
        {
          "output_type": "stream",
          "name": "stdout",
          "text": [
            "2/2 [==============================] - 42s 6s/step\n"
          ]
        }
      ]
    },
    {
      "cell_type": "code",
      "metadata": {
        "colab": {
          "base_uri": "https://localhost:8080/"
        },
        "id": "axBVJvKvwJor",
        "outputId": "be25258d-7b99-41d0-d41a-756fd7c5254b"
      },
      "source": [
        "print(len(y_pred_1d))\n",
        "print(len(y_test_1d))\n",
        "print(len(scores))"
      ],
      "execution_count": null,
      "outputs": [
        {
          "output_type": "stream",
          "name": "stdout",
          "text": [
            "9842\n",
            "9842\n",
            "9842\n"
          ]
        }
      ]
    },
    {
      "cell_type": "code",
      "metadata": {
        "id": "QkW-jC1pgots"
      },
      "source": [
        "from sklearn.metrics import confusion_matrix, classification_report, accuracy_score"
      ],
      "execution_count": null,
      "outputs": []
    },
    {
      "cell_type": "code",
      "metadata": {
        "colab": {
          "base_uri": "https://localhost:8080/"
        },
        "id": "tAVhvtwwgerI",
        "outputId": "b85dc063-22e6-4931-e327-c3a4da3b9a7e"
      },
      "source": [
        "print(classification_report(y_test_1d, y_pred_1d))\n",
        "# 0 - Negative, 1 - Positive"
      ],
      "execution_count": null,
      "outputs": [
        {
          "output_type": "stream",
          "name": "stdout",
          "text": [
            "              precision    recall  f1-score   support\n",
            "\n",
            "           0       0.86      0.92      0.89      4791\n",
            "           1       0.92      0.86      0.89      5051\n",
            "\n",
            "    accuracy                           0.89      9842\n",
            "   macro avg       0.89      0.89      0.89      9842\n",
            "weighted avg       0.89      0.89      0.89      9842\n",
            "\n"
          ]
        }
      ]
    },
    {
      "cell_type": "markdown",
      "metadata": {
        "id": "LzTLtTFxnOKO"
      },
      "source": [
        "## Architecture 2"
      ]
    },
    {
      "cell_type": "code",
      "metadata": {
        "colab": {
          "base_uri": "https://localhost:8080/"
        },
        "id": "wmQJjEFOnS-z",
        "outputId": "feac4234-80c1-46c9-8da9-26cbe4a1a0f1"
      },
      "source": [
        "model2 = Sequential()\n",
        "model2.add(embedding_layer)\n",
        "model2.add(Dropout(0.5))\n",
        "model2.add(Dense(60, activation='relu'))\n",
        "model2.add(Dense(1, activation='sigmoid'))\n",
        "model2.summary()"
      ],
      "execution_count": null,
      "outputs": [
        {
          "output_type": "stream",
          "name": "stdout",
          "text": [
            "Model: \"sequential_9\"\n",
            "_________________________________________________________________\n",
            "Layer (type)                 Output Shape              Param #   \n",
            "=================================================================\n",
            "embedding (Embedding)        (None, 300, 300)          35637600  \n",
            "_________________________________________________________________\n",
            "dropout_2 (Dropout)          (None, 300, 300)          0         \n",
            "_________________________________________________________________\n",
            "dense_16 (Dense)             (None, 300, 60)           18060     \n",
            "_________________________________________________________________\n",
            "dense_17 (Dense)             (None, 300, 1)            61        \n",
            "=================================================================\n",
            "Total params: 35,655,721\n",
            "Trainable params: 18,121\n",
            "Non-trainable params: 35,637,600\n",
            "_________________________________________________________________\n"
          ]
        }
      ]
    },
    {
      "cell_type": "code",
      "metadata": {
        "id": "x7gaMeRKovUk"
      },
      "source": [
        "# Compile model\n",
        "model2.compile(loss='binary_crossentropy', optimizer='adam', metrics=['accuracy'])"
      ],
      "execution_count": null,
      "outputs": []
    },
    {
      "cell_type": "code",
      "metadata": {
        "colab": {
          "base_uri": "https://localhost:8080/"
        },
        "id": "Cpxs3ffNo4mF",
        "outputId": "7ac6fab5-8816-4584-f4c6-b21deb8219ec"
      },
      "source": [
        "history2 = model2.fit(x_train, y_train,\n",
        "                    batch_size=128,\n",
        "                    epochs=10,\n",
        "                    validation_split=0.2)"
      ],
      "execution_count": null,
      "outputs": [
        {
          "output_type": "stream",
          "name": "stdout",
          "text": [
            "Epoch 1/10\n",
            "247/247 [==============================] - 53s 214ms/step - loss: 0.6917 - accuracy: 0.5217 - val_loss: 0.6874 - val_accuracy: 0.5274\n",
            "Epoch 2/10\n",
            "247/247 [==============================] - 52s 212ms/step - loss: 0.6891 - accuracy: 0.5259 - val_loss: 0.6868 - val_accuracy: 0.5287\n",
            "Epoch 3/10\n",
            "247/247 [==============================] - 52s 212ms/step - loss: 0.6885 - accuracy: 0.5268 - val_loss: 0.6868 - val_accuracy: 0.5279\n",
            "Epoch 4/10\n",
            "247/247 [==============================] - 52s 212ms/step - loss: 0.6881 - accuracy: 0.5276 - val_loss: 0.6862 - val_accuracy: 0.5296\n",
            "Epoch 5/10\n",
            "247/247 [==============================] - 52s 212ms/step - loss: 0.6876 - accuracy: 0.5288 - val_loss: 0.6860 - val_accuracy: 0.5302\n",
            "Epoch 6/10\n",
            "247/247 [==============================] - 52s 212ms/step - loss: 0.6874 - accuracy: 0.5294 - val_loss: 0.6858 - val_accuracy: 0.5307\n",
            "Epoch 7/10\n",
            "247/247 [==============================] - 52s 212ms/step - loss: 0.6873 - accuracy: 0.5297 - val_loss: 0.6857 - val_accuracy: 0.5307\n",
            "Epoch 8/10\n",
            "247/247 [==============================] - 52s 212ms/step - loss: 0.6871 - accuracy: 0.5303 - val_loss: 0.6857 - val_accuracy: 0.5305\n",
            "Epoch 9/10\n",
            "247/247 [==============================] - 52s 212ms/step - loss: 0.6871 - accuracy: 0.5299 - val_loss: 0.6856 - val_accuracy: 0.5310\n",
            "Epoch 10/10\n",
            "247/247 [==============================] - 53s 213ms/step - loss: 0.6869 - accuracy: 0.5306 - val_loss: 0.6855 - val_accuracy: 0.5311\n"
          ]
        }
      ]
    },
    {
      "cell_type": "code",
      "metadata": {
        "colab": {
          "base_uri": "https://localhost:8080/"
        },
        "id": "MZeFSZx7tcVv",
        "outputId": "d8d4ed53-d1ea-4448-f710-d54fe6c8b0d6"
      },
      "source": [
        "y_pred_1d2 = []\n",
        "y_test_1d2 = list(test_data.classification)\n",
        "scores2 = model2.predict(x_test, verbose=1, batch_size=8000)\n",
        "y_pred_1d2 = [decode_sentiment(score[0], include_neutral=False) for score in scores2]"
      ],
      "execution_count": null,
      "outputs": [
        {
          "output_type": "stream",
          "name": "stdout",
          "text": [
            "2/2 [==============================] - 3s 616ms/step\n"
          ]
        }
      ]
    },
    {
      "cell_type": "code",
      "metadata": {
        "colab": {
          "base_uri": "https://localhost:8080/"
        },
        "id": "0DuogBqbttrp",
        "outputId": "fb4ac80c-1f45-48f8-9307-b6a2b05ebaae"
      },
      "source": [
        "print(classification_report(y_test_1d2, y_pred_1d2))\n",
        "# 0 - Negative, 1 - Positive\n",
        "#print(len(y_test_1d2))\n",
        "#print(len(y_pred_1d2))"
      ],
      "execution_count": null,
      "outputs": [
        {
          "output_type": "stream",
          "name": "stdout",
          "text": [
            "              precision    recall  f1-score   support\n",
            "\n",
            "           0       0.56      0.03      0.06      4791\n",
            "           1       0.52      0.98      0.67      5051\n",
            "\n",
            "    accuracy                           0.52      9842\n",
            "   macro avg       0.54      0.50      0.37      9842\n",
            "weighted avg       0.53      0.52      0.37      9842\n",
            "\n"
          ]
        }
      ]
    },
    {
      "cell_type": "markdown",
      "metadata": {
        "id": "0YTCmnI5pQQZ"
      },
      "source": [
        "## Architecture 3"
      ]
    },
    {
      "cell_type": "code",
      "metadata": {
        "colab": {
          "base_uri": "https://localhost:8080/"
        },
        "id": "C4APJz1FpOaZ",
        "outputId": "937e4212-c3ac-4a2c-b597-ca4f3843c8a1"
      },
      "source": [
        "model3 = Sequential()\n",
        "model3.add(embedding_layer)\n",
        "model3.add(Dense(units=8, input_dim=4,\n",
        "  activation='tanh')) \n",
        "model3.add(Dense(units=8, activation='tanh')) \n",
        "model3.add(Dense(units=1, activation='sigmoid'))\n",
        "model3.summary()"
      ],
      "execution_count": null,
      "outputs": [
        {
          "output_type": "stream",
          "name": "stdout",
          "text": [
            "Model: \"sequential_7\"\n",
            "_________________________________________________________________\n",
            "Layer (type)                 Output Shape              Param #   \n",
            "=================================================================\n",
            "embedding (Embedding)        (None, 300, 300)          35637600  \n",
            "_________________________________________________________________\n",
            "dense_11 (Dense)             (None, 300, 8)            2408      \n",
            "_________________________________________________________________\n",
            "dense_12 (Dense)             (None, 300, 8)            72        \n",
            "_________________________________________________________________\n",
            "dense_13 (Dense)             (None, 300, 1)            9         \n",
            "=================================================================\n",
            "Total params: 35,640,089\n",
            "Trainable params: 2,489\n",
            "Non-trainable params: 35,637,600\n",
            "_________________________________________________________________\n"
          ]
        }
      ]
    },
    {
      "cell_type": "code",
      "metadata": {
        "id": "wTQsOooapVJm"
      },
      "source": [
        "# Compile model\n",
        "model3.compile(loss='binary_crossentropy', optimizer='adam', metrics=['accuracy'])"
      ],
      "execution_count": null,
      "outputs": []
    },
    {
      "cell_type": "code",
      "metadata": {
        "colab": {
          "base_uri": "https://localhost:8080/"
        },
        "id": "wEFcc6JWpVS_",
        "outputId": "c05eb1c9-2550-47f4-c6ec-8d0c74979c41"
      },
      "source": [
        "history3 = model3.fit(x_train, y_train,\n",
        "                    batch_size=128,\n",
        "                    epochs=10,\n",
        "                    validation_split=0.2)"
      ],
      "execution_count": null,
      "outputs": [
        {
          "output_type": "stream",
          "name": "stdout",
          "text": [
            "Epoch 1/10\n",
            "247/247 [==============================] - 17s 67ms/step - loss: 0.6900 - accuracy: 0.5219 - val_loss: 0.6880 - val_accuracy: 0.5249\n",
            "Epoch 2/10\n",
            "247/247 [==============================] - 16s 64ms/step - loss: 0.6880 - accuracy: 0.5269 - val_loss: 0.6880 - val_accuracy: 0.5253\n",
            "Epoch 3/10\n",
            "247/247 [==============================] - 16s 64ms/step - loss: 0.6877 - accuracy: 0.5287 - val_loss: 0.6875 - val_accuracy: 0.5263\n",
            "Epoch 4/10\n",
            "247/247 [==============================] - 16s 64ms/step - loss: 0.6875 - accuracy: 0.5290 - val_loss: 0.6875 - val_accuracy: 0.5260\n",
            "Epoch 5/10\n",
            "247/247 [==============================] - 16s 64ms/step - loss: 0.6873 - accuracy: 0.5290 - val_loss: 0.6874 - val_accuracy: 0.5262\n",
            "Epoch 6/10\n",
            "247/247 [==============================] - 16s 64ms/step - loss: 0.6873 - accuracy: 0.5297 - val_loss: 0.6872 - val_accuracy: 0.5269\n",
            "Epoch 7/10\n",
            "247/247 [==============================] - 16s 64ms/step - loss: 0.6871 - accuracy: 0.5301 - val_loss: 0.6869 - val_accuracy: 0.5278\n",
            "Epoch 8/10\n",
            "247/247 [==============================] - 16s 64ms/step - loss: 0.6870 - accuracy: 0.5303 - val_loss: 0.6872 - val_accuracy: 0.5270\n",
            "Epoch 9/10\n",
            "247/247 [==============================] - 16s 64ms/step - loss: 0.6868 - accuracy: 0.5308 - val_loss: 0.6868 - val_accuracy: 0.5281\n",
            "Epoch 10/10\n",
            "247/247 [==============================] - 16s 64ms/step - loss: 0.6867 - accuracy: 0.5295 - val_loss: 0.6867 - val_accuracy: 0.5281\n"
          ]
        }
      ]
    },
    {
      "cell_type": "code",
      "metadata": {
        "colab": {
          "base_uri": "https://localhost:8080/"
        },
        "id": "QbPiicJK3b17",
        "outputId": "911ff3b9-adac-4220-c21b-65564cd232bc"
      },
      "source": [
        "y_pred_1d3 = []\n",
        "y_test_1d3 = list(test_data.classification)\n",
        "scores3 = model3.predict(x_test, verbose=1, batch_size=8000)\n",
        "y_pred_1d3 = [decode_sentiment(score[0], include_neutral=False) for score in scores3]"
      ],
      "execution_count": null,
      "outputs": [
        {
          "output_type": "stream",
          "name": "stdout",
          "text": [
            "2/2 [==============================] - 2s 320ms/step\n"
          ]
        }
      ]
    },
    {
      "cell_type": "code",
      "metadata": {
        "colab": {
          "base_uri": "https://localhost:8080/"
        },
        "id": "lFGM9uWL3pjS",
        "outputId": "6b60e0f2-0200-4f9b-b135-72986cc79eaa"
      },
      "source": [
        "print(classification_report(y_test_1d3, y_pred_1d3))"
      ],
      "execution_count": null,
      "outputs": [
        {
          "output_type": "stream",
          "name": "stdout",
          "text": [
            "              precision    recall  f1-score   support\n",
            "\n",
            "           0       0.57      0.03      0.06      4791\n",
            "           1       0.52      0.98      0.68      5051\n",
            "\n",
            "    accuracy                           0.52      9842\n",
            "   macro avg       0.54      0.50      0.37      9842\n",
            "weighted avg       0.54      0.52      0.38      9842\n",
            "\n"
          ]
        }
      ]
    },
    {
      "cell_type": "markdown",
      "metadata": {
        "id": "H_GheF_f6-UA"
      },
      "source": [
        "MODELO BERT (EXTRA)"
      ]
    },
    {
      "cell_type": "markdown",
      "metadata": {
        "id": "KullQ9Cy3T32"
      },
      "source": [
        "Modelo BERT El nombre completo de BERT es Representación de codificador bidireccional de transformadores, es decir, codificador de transformador bidireccional. La principal innovación del modelo es el método de pre-entrenamiento, que se utilizaMasked LMconNext Sentence PredictionLos dos métodos capturan la representación a nivel de palabra y oración, respectivamente. Como sustituto de Word2Vec, sus 11 direcciones en el campo de la PNL han mejorado enormemente su precisión. Se puede decir que es una tecnología innovadora óptima para redes auto residuales en los últimos años.\n",
        "\n",
        "Las principales características del modelo Bert:\n",
        "\n",
        "1. La arquitectura de red de BERT utiliza las múltiples capas propuestas en \"Atención es todo lo que necesita\"TransformerEstructura, su principal característica es abandonar los RNN y CNN tradicionales, a través del mecanismo de Atención para convertir la distancia de dos palabras en cualquier posición a 1, resolver de manera efectiva el difícil problema de dependencia a largo plazo en PNL, puede capturar más a fondo la oración Relación bidireccional.\n",
        "\n",
        "2. Objetivos de entrenamiento de tareas múltiples usando el Modelo de lenguaje de máscara (MLM) [Wilson L Taylor. 1953. procedimiento de cloze: una nueva herramienta para medir la legibilidad.] Y Predicción de la siguiente oración (NSP);\n",
        "\n",
        "3. Al usar máquinas más potentes para entrenar datos a mayor escala, los resultados de BERT alcanzaron un nivel completamente nuevo, y Google Open obtuvo el BERT multilingüe capacitadoCódigo modelo, Los usuarios pueden usar directamente BERT como la matriz de conversión de Word2Vec y aplicarlo eficientemente a sus propias tareas.\n",
        "\n",
        "Tomado de: https://programmerclick.com/article/2069798831/"
      ]
    },
    {
      "cell_type": "code",
      "metadata": {
        "id": "fePcLi5p-v4T"
      },
      "source": [
        "import pandas as pd\n",
        "\n",
        "import tarfile\n",
        "from sklearn.preprocessing import LabelEncoder\n",
        "from sklearn.model_selection import train_test_split\n",
        "\n",
        "train_df = pd.read_csv('data/yelp_review_polarity_csv/train.csv', header=None)\n",
        "print(train_df.head())\n",
        "\n",
        "test_df = pd.read_csv('data/yelp_review_polarity_csv/test.csv', header=None)\n",
        "print(test_df.head())"
      ],
      "execution_count": null,
      "outputs": []
    },
    {
      "cell_type": "code",
      "metadata": {
        "id": "IEOniGIi6XFa"
      },
      "source": [
        "train_df[0] = (train_df[0] == 2).astype(int)\n",
        "test_df[0] = (test_df[0] == 2).astype(int)"
      ],
      "execution_count": null,
      "outputs": []
    },
    {
      "cell_type": "code",
      "metadata": {
        "id": "05pl3Pg66jcS"
      },
      "source": [
        "print(train_df.head())\n",
        "print(test_df.head())"
      ],
      "execution_count": null,
      "outputs": []
    },
    {
      "cell_type": "markdown",
      "metadata": {
        "id": "OySDKofZ6t6u"
      },
      "source": [
        "ID de fila, etiqueta de fila, letra única, texto que queremos clasificar ES LO QUE RECIBE EL BERT"
      ]
    },
    {
      "cell_type": "code",
      "metadata": {
        "id": "TkV35HJ_6rUO"
      },
      "source": [
        "bert_df = pd.DataFrame({\n",
        "    'id': range(len(train_df)),\n",
        "    'label': train_df[0],\n",
        "    'alpha': ['q']*train_df.shape[0],\n",
        "    'text': train_df[1].replace(r'\\n', ' ', regex=True)\n",
        "})\n",
        "\n",
        "train_bert_df, dev_bert_df = train_test_split(bert_df, test_size=0.01)"
      ],
      "execution_count": null,
      "outputs": []
    },
    {
      "cell_type": "code",
      "metadata": {
        "id": "sJjmURk96-gh"
      },
      "source": [
        "print(train_bert_df.head())"
      ],
      "execution_count": null,
      "outputs": []
    },
    {
      "cell_type": "markdown",
      "metadata": {
        "id": "TpafMNSU7Bw-"
      },
      "source": [
        "BERT TEST solo espera dos columnas: ID de fila, texto"
      ]
    },
    {
      "cell_type": "code",
      "metadata": {
        "id": "UQku14Ly6_Hg"
      },
      "source": [
        "test_bert_df = pd.DataFrame({\n",
        "    'id': range(len(test_df)),\n",
        "    'text': test_df[1].replace(r'\\n', ' ', regex=True)\n",
        "})"
      ],
      "execution_count": null,
      "outputs": []
    },
    {
      "cell_type": "code",
      "metadata": {
        "id": "rqaa7OR_7JtK"
      },
      "source": [
        "print(test_bert_df.head())"
      ],
      "execution_count": null,
      "outputs": []
    },
    {
      "cell_type": "markdown",
      "metadata": {
        "id": "5X3d4HbE7SOd"
      },
      "source": [
        "Guardar los archivos "
      ]
    },
    {
      "cell_type": "code",
      "metadata": {
        "id": "JlMKda3z7QMt"
      },
      "source": [
        "train_bert_df.to_csv('data/train.tsv', sep='\\t', index=False, header=False)\n",
        "dev_bert_df.to_csv('data/dev.tsv', sep='\\t', index=False, header=False)\n",
        "test_bert_df.to_csv('data/test.tsv', sep='\\t', index=False, header=False)"
      ],
      "execution_count": null,
      "outputs": []
    },
    {
      "cell_type": "markdown",
      "metadata": {
        "id": "KeTLif4-7eew"
      },
      "source": [
        "Modelo:\n",
        "\n",
        "directo en la carpeta de bert en terminal correr lo siguiente: \n",
        "\n",
        "python run_classifier.py --task_name=cola --do_train=true --do_eval=true --data_dir=./data/ --vocab_file=./uncased_L-12_H-768_A-12/vocab.txt --bert_config_file=./uncased_L-12_H-768_A-12/bert_config.json --init_checkpoint=./uncased_L-12_H768_A-12/bert_model.ckpt.index --max_seq_length=128 --train_batch_size=32 --learning_rate=2e-5 --num_train_epochs=3.0 --output_dir=./model_output --do_lower_case=False\n"
      ]
    },
    {
      "cell_type": "markdown",
      "metadata": {
        "id": "Q1mfiJjC7mUO"
      },
      "source": [
        "Predicción: \n",
        "En la subcarpeta model_output de la carpeta bert elegimos el archivo model.ckpt que tenga el mejor peso, al final lo corrimos de nuevo en la terminal y nos arrojo correctamente la predicción: \n",
        "\n",
        "python run_classifier.py --task_name=cola --do_predict=true --data_dir=./data --vocab_file=./uncased_L-12_H-768-A-12/bert_config.json --init_checkpoint=./model_output/model.ckpt-<highest checkpoint number> --max_seq_length=128 --output_dir=./model_output\n"
      ]
    },
    {
      "cell_type": "markdown",
      "metadata": {
        "id": "oiwgmniT90KV"
      },
      "source": [
        "Se creó al final el archivo test results, aquí tenemos la predicción. "
      ]
    },
    {
      "cell_type": "code",
      "metadata": {
        "id": "2HHWNr4N3Pu3"
      },
      "source": [
        "! pip3 freeze > requirements.txt"
      ],
      "execution_count": null,
      "outputs": []
    }
  ]
}